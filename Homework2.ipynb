{
 "cells": [
  {
   "cell_type": "markdown",
   "id": "bee1bb65",
   "metadata": {},
   "source": [
    "## Homework 2\n",
    "### By Wajih Arfaoui"
   ]
  },
  {
   "cell_type": "markdown",
   "id": "bdf3679b",
   "metadata": {},
   "source": [
    "### Exercise 6\n",
    "a/"
   ]
  },
  {
   "cell_type": "markdown",
   "id": "c57be6a9",
   "metadata": {},
   "source": [
    "p(X)=$\\frac{exp(\\beta0+\\beta1X1+\\beta2X2)}{1+exp(\\beta0+\\beta1X1+\\beta2X2)}$    \n",
    "\n",
    "**X1**= hours_studied,**X2**= undergrad_GPA, $\\beta$0= −6, $\\beta$1= 0.05,$\\beta$2= 1  \n",
    "\n",
    "p(X) = $\\frac{exp(-6 + 0.05* 40 + 3.5)}{1+exp(-6 + 0.05* 40 + 3.5)}$  = 37.75 %"
   ]
  },
  {
   "cell_type": "markdown",
   "id": "1fef287b",
   "metadata": {},
   "source": [
    "b/"
   ]
  },
  {
   "cell_type": "markdown",
   "id": "ed51ee40",
   "metadata": {},
   "source": [
    "p(X)=$\\frac{exp(\\beta0+\\beta1X1+\\beta2X2)}{1+exp(\\beta0+\\beta1X1+\\beta2X2)}$  = 0.5  \n",
    "\n",
    "$exp(\\beta0+\\beta1X1+\\beta2X2)$ = 1+$exp(\\beta0+\\beta1X1+\\beta2X2)$ * 0.5  \n",
    "\n",
    "= $exp(-2.5 +0.05 * X1)$ = 1+$exp(-2.5 +0.05 * X1)$ * 0.5  \n",
    "\n",
    "$log{(1)}$ = -2.5 + 0.05 * X1  \n",
    "\n",
    "X1 = 50 hours"
   ]
  },
  {
   "cell_type": "markdown",
   "id": "3363cbe5",
   "metadata": {},
   "source": [
    "### Exercise 8\n",
    "a/"
   ]
  },
  {
   "cell_type": "markdown",
   "id": "93567fe9",
   "metadata": {},
   "source": [
    "For the KNN with K =1, the nearest neighbor in the training set for each observation will be the real response value of that observation, so basically the error is 0. What means that the error rate for the test set is 36% which higher than the error rate for the training set when using the logistic regression, so I choose the latter. "
   ]
  },
  {
   "cell_type": "markdown",
   "id": "9a055620",
   "metadata": {},
   "source": [
    "### Exercise 9\n",
    "a/"
   ]
  },
  {
   "cell_type": "markdown",
   "id": "417ad8c3",
   "metadata": {},
   "source": [
    "$\\frac{p(X)}{1-p(X)} = 0.37$  \n",
    "\n",
    "$p(X) = 27 \\% $"
   ]
  },
  {
   "cell_type": "markdown",
   "id": "a87d72bd",
   "metadata": {},
   "source": [
    "b/"
   ]
  },
  {
   "cell_type": "markdown",
   "id": "907e8c4e",
   "metadata": {},
   "source": [
    "$ odds = \\frac{p(X)}{1-p(X)}$ \n",
    "\n",
    "$= \\frac{0.16}{1-0.16}$ \n",
    "\n",
    "$= 0.19$\n"
   ]
  },
  {
   "cell_type": "markdown",
   "id": "722aaa6b",
   "metadata": {},
   "source": [
    "### Exercise 10\n",
    "a/"
   ]
  },
  {
   "cell_type": "code",
   "execution_count": 26,
   "id": "38ee3154",
   "metadata": {},
   "outputs": [
    {
     "data": {
      "text/plain": [
       "      Year           Lag1               Lag2               Lag3         \n",
       " Min.   :1990   Min.   :-18.1950   Min.   :-18.1950   Min.   :-18.1950  \n",
       " 1st Qu.:1995   1st Qu.: -1.1540   1st Qu.: -1.1540   1st Qu.: -1.1580  \n",
       " Median :2000   Median :  0.2410   Median :  0.2410   Median :  0.2410  \n",
       " Mean   :2000   Mean   :  0.1506   Mean   :  0.1511   Mean   :  0.1472  \n",
       " 3rd Qu.:2005   3rd Qu.:  1.4050   3rd Qu.:  1.4090   3rd Qu.:  1.4090  \n",
       " Max.   :2010   Max.   : 12.0260   Max.   : 12.0260   Max.   : 12.0260  \n",
       "      Lag4               Lag5              Volume            Today         \n",
       " Min.   :-18.1950   Min.   :-18.1950   Min.   :0.08747   Min.   :-18.1950  \n",
       " 1st Qu.: -1.1580   1st Qu.: -1.1660   1st Qu.:0.33202   1st Qu.: -1.1540  \n",
       " Median :  0.2380   Median :  0.2340   Median :1.00268   Median :  0.2410  \n",
       " Mean   :  0.1458   Mean   :  0.1399   Mean   :1.57462   Mean   :  0.1499  \n",
       " 3rd Qu.:  1.4090   3rd Qu.:  1.4050   3rd Qu.:2.05373   3rd Qu.:  1.4050  \n",
       " Max.   : 12.0260   Max.   : 12.0260   Max.   :9.32821   Max.   : 12.0260  \n",
       " Direction \n",
       " Down:484  \n",
       " Up  :605  \n",
       "           \n",
       "           \n",
       "           \n",
       "           "
      ]
     },
     "metadata": {},
     "output_type": "display_data"
    }
   ],
   "source": [
    "library(ISLR)\n",
    "summary(Weekly)"
   ]
  },
  {
   "cell_type": "code",
   "execution_count": 27,
   "id": "d5df662d",
   "metadata": {},
   "outputs": [
    {
     "data": {
      "text/html": [
       "<table class=\"dataframe\">\n",
       "<caption>A matrix: 8 × 8 of type dbl</caption>\n",
       "<thead>\n",
       "\t<tr><th></th><th scope=col>Year</th><th scope=col>Lag1</th><th scope=col>Lag2</th><th scope=col>Lag3</th><th scope=col>Lag4</th><th scope=col>Lag5</th><th scope=col>Volume</th><th scope=col>Today</th></tr>\n",
       "</thead>\n",
       "<tbody>\n",
       "\t<tr><th scope=row>Year</th><td> 1.00000000</td><td>-0.032289274</td><td>-0.03339001</td><td>-0.03000649</td><td>-0.031127923</td><td>-0.030519101</td><td> 0.84194162</td><td>-0.032459894</td></tr>\n",
       "\t<tr><th scope=row>Lag1</th><td>-0.03228927</td><td> 1.000000000</td><td>-0.07485305</td><td> 0.05863568</td><td>-0.071273876</td><td>-0.008183096</td><td>-0.06495131</td><td>-0.075031842</td></tr>\n",
       "\t<tr><th scope=row>Lag2</th><td>-0.03339001</td><td>-0.074853051</td><td> 1.00000000</td><td>-0.07572091</td><td> 0.058381535</td><td>-0.072499482</td><td>-0.08551314</td><td> 0.059166717</td></tr>\n",
       "\t<tr><th scope=row>Lag3</th><td>-0.03000649</td><td> 0.058635682</td><td>-0.07572091</td><td> 1.00000000</td><td>-0.075395865</td><td> 0.060657175</td><td>-0.06928771</td><td>-0.071243639</td></tr>\n",
       "\t<tr><th scope=row>Lag4</th><td>-0.03112792</td><td>-0.071273876</td><td> 0.05838153</td><td>-0.07539587</td><td> 1.000000000</td><td>-0.075675027</td><td>-0.06107462</td><td>-0.007825873</td></tr>\n",
       "\t<tr><th scope=row>Lag5</th><td>-0.03051910</td><td>-0.008183096</td><td>-0.07249948</td><td> 0.06065717</td><td>-0.075675027</td><td> 1.000000000</td><td>-0.05851741</td><td> 0.011012698</td></tr>\n",
       "\t<tr><th scope=row>Volume</th><td> 0.84194162</td><td>-0.064951313</td><td>-0.08551314</td><td>-0.06928771</td><td>-0.061074617</td><td>-0.058517414</td><td> 1.00000000</td><td>-0.033077783</td></tr>\n",
       "\t<tr><th scope=row>Today</th><td>-0.03245989</td><td>-0.075031842</td><td> 0.05916672</td><td>-0.07124364</td><td>-0.007825873</td><td> 0.011012698</td><td>-0.03307778</td><td> 1.000000000</td></tr>\n",
       "</tbody>\n",
       "</table>\n"
      ],
      "text/latex": [
       "A matrix: 8 × 8 of type dbl\n",
       "\\begin{tabular}{r|llllllll}\n",
       "  & Year & Lag1 & Lag2 & Lag3 & Lag4 & Lag5 & Volume & Today\\\\\n",
       "\\hline\n",
       "\tYear &  1.00000000 & -0.032289274 & -0.03339001 & -0.03000649 & -0.031127923 & -0.030519101 &  0.84194162 & -0.032459894\\\\\n",
       "\tLag1 & -0.03228927 &  1.000000000 & -0.07485305 &  0.05863568 & -0.071273876 & -0.008183096 & -0.06495131 & -0.075031842\\\\\n",
       "\tLag2 & -0.03339001 & -0.074853051 &  1.00000000 & -0.07572091 &  0.058381535 & -0.072499482 & -0.08551314 &  0.059166717\\\\\n",
       "\tLag3 & -0.03000649 &  0.058635682 & -0.07572091 &  1.00000000 & -0.075395865 &  0.060657175 & -0.06928771 & -0.071243639\\\\\n",
       "\tLag4 & -0.03112792 & -0.071273876 &  0.05838153 & -0.07539587 &  1.000000000 & -0.075675027 & -0.06107462 & -0.007825873\\\\\n",
       "\tLag5 & -0.03051910 & -0.008183096 & -0.07249948 &  0.06065717 & -0.075675027 &  1.000000000 & -0.05851741 &  0.011012698\\\\\n",
       "\tVolume &  0.84194162 & -0.064951313 & -0.08551314 & -0.06928771 & -0.061074617 & -0.058517414 &  1.00000000 & -0.033077783\\\\\n",
       "\tToday & -0.03245989 & -0.075031842 &  0.05916672 & -0.07124364 & -0.007825873 &  0.011012698 & -0.03307778 &  1.000000000\\\\\n",
       "\\end{tabular}\n"
      ],
      "text/markdown": [
       "\n",
       "A matrix: 8 × 8 of type dbl\n",
       "\n",
       "| <!--/--> | Year | Lag1 | Lag2 | Lag3 | Lag4 | Lag5 | Volume | Today |\n",
       "|---|---|---|---|---|---|---|---|---|\n",
       "| Year |  1.00000000 | -0.032289274 | -0.03339001 | -0.03000649 | -0.031127923 | -0.030519101 |  0.84194162 | -0.032459894 |\n",
       "| Lag1 | -0.03228927 |  1.000000000 | -0.07485305 |  0.05863568 | -0.071273876 | -0.008183096 | -0.06495131 | -0.075031842 |\n",
       "| Lag2 | -0.03339001 | -0.074853051 |  1.00000000 | -0.07572091 |  0.058381535 | -0.072499482 | -0.08551314 |  0.059166717 |\n",
       "| Lag3 | -0.03000649 |  0.058635682 | -0.07572091 |  1.00000000 | -0.075395865 |  0.060657175 | -0.06928771 | -0.071243639 |\n",
       "| Lag4 | -0.03112792 | -0.071273876 |  0.05838153 | -0.07539587 |  1.000000000 | -0.075675027 | -0.06107462 | -0.007825873 |\n",
       "| Lag5 | -0.03051910 | -0.008183096 | -0.07249948 |  0.06065717 | -0.075675027 |  1.000000000 | -0.05851741 |  0.011012698 |\n",
       "| Volume |  0.84194162 | -0.064951313 | -0.08551314 | -0.06928771 | -0.061074617 | -0.058517414 |  1.00000000 | -0.033077783 |\n",
       "| Today | -0.03245989 | -0.075031842 |  0.05916672 | -0.07124364 | -0.007825873 |  0.011012698 | -0.03307778 |  1.000000000 |\n",
       "\n"
      ],
      "text/plain": [
       "       Year        Lag1         Lag2        Lag3        Lag4        \n",
       "Year    1.00000000 -0.032289274 -0.03339001 -0.03000649 -0.031127923\n",
       "Lag1   -0.03228927  1.000000000 -0.07485305  0.05863568 -0.071273876\n",
       "Lag2   -0.03339001 -0.074853051  1.00000000 -0.07572091  0.058381535\n",
       "Lag3   -0.03000649  0.058635682 -0.07572091  1.00000000 -0.075395865\n",
       "Lag4   -0.03112792 -0.071273876  0.05838153 -0.07539587  1.000000000\n",
       "Lag5   -0.03051910 -0.008183096 -0.07249948  0.06065717 -0.075675027\n",
       "Volume  0.84194162 -0.064951313 -0.08551314 -0.06928771 -0.061074617\n",
       "Today  -0.03245989 -0.075031842  0.05916672 -0.07124364 -0.007825873\n",
       "       Lag5         Volume      Today       \n",
       "Year   -0.030519101  0.84194162 -0.032459894\n",
       "Lag1   -0.008183096 -0.06495131 -0.075031842\n",
       "Lag2   -0.072499482 -0.08551314  0.059166717\n",
       "Lag3    0.060657175 -0.06928771 -0.071243639\n",
       "Lag4   -0.075675027 -0.06107462 -0.007825873\n",
       "Lag5    1.000000000 -0.05851741  0.011012698\n",
       "Volume -0.058517414  1.00000000 -0.033077783\n",
       "Today   0.011012698 -0.03307778  1.000000000"
      ]
     },
     "metadata": {},
     "output_type": "display_data"
    }
   ],
   "source": [
    "cor(Weekly[,1:8])"
   ]
  },
  {
   "cell_type": "markdown",
   "id": "cc5430c0",
   "metadata": {},
   "source": [
    "Year and volume have a strong positive correlation"
   ]
  },
  {
   "cell_type": "markdown",
   "id": "986a04eb",
   "metadata": {},
   "source": [
    "b/"
   ]
  },
  {
   "cell_type": "code",
   "execution_count": 28,
   "id": "4b3ae1db",
   "metadata": {},
   "outputs": [
    {
     "name": "stderr",
     "output_type": "stream",
     "text": [
      "The following objects are masked from Weekly (pos = 3):\n",
      "\n",
      "    Direction, Lag1, Lag2, Lag3, Lag4, Lag5, Today, Volume, Year\n",
      "\n",
      "\n",
      "The following objects are masked from Weekly (pos = 4):\n",
      "\n",
      "    Direction, Lag1, Lag2, Lag3, Lag4, Lag5, Today, Volume, Year\n",
      "\n",
      "\n"
     ]
    },
    {
     "data": {
      "text/plain": [
       "\n",
       "Call:\n",
       "glm(formula = Direction ~ Lag1 + Lag2 + Lag3 + Lag4 + Lag5 + \n",
       "    Volume, family = binomial, data = Weekly)\n",
       "\n",
       "Deviance Residuals: \n",
       "    Min       1Q   Median       3Q      Max  \n",
       "-1.6949  -1.2565   0.9913   1.0849   1.4579  \n",
       "\n",
       "Coefficients:\n",
       "            Estimate Std. Error z value Pr(>|z|)   \n",
       "(Intercept)  0.26686    0.08593   3.106   0.0019 **\n",
       "Lag1        -0.04127    0.02641  -1.563   0.1181   \n",
       "Lag2         0.05844    0.02686   2.175   0.0296 * \n",
       "Lag3        -0.01606    0.02666  -0.602   0.5469   \n",
       "Lag4        -0.02779    0.02646  -1.050   0.2937   \n",
       "Lag5        -0.01447    0.02638  -0.549   0.5833   \n",
       "Volume      -0.02274    0.03690  -0.616   0.5377   \n",
       "---\n",
       "Signif. codes:  0 '***' 0.001 '**' 0.01 '*' 0.05 '.' 0.1 ' ' 1\n",
       "\n",
       "(Dispersion parameter for binomial family taken to be 1)\n",
       "\n",
       "    Null deviance: 1496.2  on 1088  degrees of freedom\n",
       "Residual deviance: 1486.4  on 1082  degrees of freedom\n",
       "AIC: 1500.4\n",
       "\n",
       "Number of Fisher Scoring iterations: 4\n"
      ]
     },
     "metadata": {},
     "output_type": "display_data"
    }
   ],
   "source": [
    "attach(Weekly)\n",
    "glm.fit <- glm(Direction ~ Lag1 + Lag2 + Lag3 + Lag4 + Lag5 + Volume, data = Weekly, family = binomial)\n",
    "summary(glm.fit)"
   ]
  },
  {
   "cell_type": "markdown",
   "id": "201bc736",
   "metadata": {},
   "source": [
    "Only **Lag2** seems to be statistically significant"
   ]
  },
  {
   "cell_type": "markdown",
   "id": "b1720b4d",
   "metadata": {},
   "source": [
    "c/"
   ]
  },
  {
   "cell_type": "code",
   "execution_count": 30,
   "id": "1cacc025",
   "metadata": {},
   "outputs": [
    {
     "data": {
      "text/plain": [
       "        Direction\n",
       "glm.pred Down  Up\n",
       "    Down   54  48\n",
       "    Up    430 557"
      ]
     },
     "metadata": {},
     "output_type": "display_data"
    }
   ],
   "source": [
    "glm.probs <- predict(glm.fit, type=\"response\")\n",
    "glm.pred <- rep(\"Down\", length(glm.probs)) \n",
    "glm.pred[glm.probs>0.5]=\"Up\"\n",
    "table(glm.pred,Direction)"
   ]
  },
  {
   "cell_type": "code",
   "execution_count": 31,
   "id": "071b14cb",
   "metadata": {},
   "outputs": [
    {
     "data": {
      "text/html": [
       "0.561065197428834"
      ],
      "text/latex": [
       "0.561065197428834"
      ],
      "text/markdown": [
       "0.561065197428834"
      ],
      "text/plain": [
       "[1] 0.5610652"
      ]
     },
     "metadata": {},
     "output_type": "display_data"
    }
   ],
   "source": [
    "# Percentage how accurate\n",
    "(557+54)/(557+54+48+430)"
   ]
  },
  {
   "cell_type": "markdown",
   "id": "88b9a946",
   "metadata": {},
   "source": [
    "d/"
   ]
  },
  {
   "cell_type": "code",
   "execution_count": 33,
   "id": "961bff33",
   "metadata": {},
   "outputs": [
    {
     "data": {
      "text/plain": [
       "        Direction.2009\n",
       "glm.pred Down Up\n",
       "    Down    9  5\n",
       "    Up     34 56"
      ]
     },
     "metadata": {},
     "output_type": "display_data"
    }
   ],
   "source": [
    "train = (Year < 2009)\n",
    "Weekly.2009= Weekly[!train, ]\n",
    "glm.fit = glm(Direction ~ Lag2, data = Weekly, family = binomial, subset = train)\n",
    "glm.probs = predict(glm.fit, Weekly.2009, type = \"response\")\n",
    "glm.pred = rep(\"Down\", length(glm.probs))\n",
    "glm.pred[glm.probs > 0.5] = \"Up\"\n",
    "Direction.2009 = Direction[!train]\n",
    "table(glm.pred, Direction.2009)\n"
   ]
  },
  {
   "cell_type": "code",
   "execution_count": 37,
   "id": "08bd88b5",
   "metadata": {},
   "outputs": [
    {
     "data": {
      "text/html": [
       "0.625"
      ],
      "text/latex": [
       "0.625"
      ],
      "text/markdown": [
       "0.625"
      ],
      "text/plain": [
       "[1] 0.625"
      ]
     },
     "metadata": {},
     "output_type": "display_data"
    }
   ],
   "source": [
    "# test error rate\n",
    "(9+56)/(9+56+5+34)"
   ]
  },
  {
   "cell_type": "code",
   "execution_count": 39,
   "id": "bffbd123",
   "metadata": {},
   "outputs": [
    {
     "data": {
      "text/plain": [
       "      Direction.2009\n",
       "       Down Up\n",
       "  Down    9  5\n",
       "  Up     34 56"
      ]
     },
     "metadata": {},
     "output_type": "display_data"
    }
   ],
   "source": [
    "library(MASS)\n",
    "lda.fit = lda(Direction ~ Lag2, data = Weekly, subset = train)\n",
    "lda.pred = predict(lda.fit, Weekly.2009)\n",
    "table(lda.pred$class, Direction.2009)"
   ]
  },
  {
   "cell_type": "code",
   "execution_count": 40,
   "id": "fc5bed00",
   "metadata": {},
   "outputs": [
    {
     "data": {
      "text/html": [
       "0.625"
      ],
      "text/latex": [
       "0.625"
      ],
      "text/markdown": [
       "0.625"
      ],
      "text/plain": [
       "[1] 0.625"
      ]
     },
     "metadata": {},
     "output_type": "display_data"
    }
   ],
   "source": [
    "# test error rate\n",
    "(9+56)/(9+56+5+34)"
   ]
  },
  {
   "cell_type": "code",
   "execution_count": 41,
   "id": "884dd9a5",
   "metadata": {
    "scrolled": true
   },
   "outputs": [
    {
     "data": {
      "text/plain": [
       "         Direction.2009\n",
       "qda.class Down Up\n",
       "     Down    0  0\n",
       "     Up     43 61"
      ]
     },
     "metadata": {},
     "output_type": "display_data"
    }
   ],
   "source": [
    "qda.fit = qda(Direction ~ Lag2, data = Weekly, subset = train)\n",
    "qda.class = predict(qda.fit, Weekly.2009)$class\n",
    "table(qda.class, Direction.2009)"
   ]
  },
  {
   "cell_type": "code",
   "execution_count": 42,
   "id": "c0f8da0c",
   "metadata": {},
   "outputs": [
    {
     "data": {
      "text/html": [
       "0.586538461538462"
      ],
      "text/latex": [
       "0.586538461538462"
      ],
      "text/markdown": [
       "0.586538461538462"
      ],
      "text/plain": [
       "[1] 0.5865385"
      ]
     },
     "metadata": {},
     "output_type": "display_data"
    }
   ],
   "source": [
    "# test error rate\n",
    "(61)/(104)"
   ]
  },
  {
   "cell_type": "code",
   "execution_count": 45,
   "id": "2c3571d3",
   "metadata": {},
   "outputs": [
    {
     "data": {
      "text/plain": [
       "        Direction.2009\n",
       "knn.pred Down Up\n",
       "    Down   21 30\n",
       "    Up     22 31"
      ]
     },
     "metadata": {},
     "output_type": "display_data"
    }
   ],
   "source": [
    "library(class)\n",
    "train.X = as.matrix(Lag2[train])\n",
    "test.X = as.matrix(Lag2[!train])\n",
    "train.Direction = Direction[train]\n",
    "set.seed(1)\n",
    "knn.pred = knn(train.X, test.X, train.Direction, k = 1)\n",
    "table(knn.pred, Direction.2009)"
   ]
  },
  {
   "cell_type": "code",
   "execution_count": 46,
   "id": "ee44d688",
   "metadata": {},
   "outputs": [
    {
     "data": {
      "text/html": [
       "0.5"
      ],
      "text/latex": [
       "0.5"
      ],
      "text/markdown": [
       "0.5"
      ],
      "text/plain": [
       "[1] 0.5"
      ]
     },
     "metadata": {},
     "output_type": "display_data"
    }
   ],
   "source": [
    "# test error rate\n",
    "(21+31)/(21+31+30+22)"
   ]
  },
  {
   "cell_type": "markdown",
   "id": "2121aef2",
   "metadata": {},
   "source": [
    "Based on the test error rate we chose LDA and Logistic regression"
   ]
  },
  {
   "cell_type": "markdown",
   "id": "93d5cc18",
   "metadata": {},
   "source": [
    "### Exercise 11\n",
    "a/"
   ]
  },
  {
   "cell_type": "code",
   "execution_count": 70,
   "id": "5056237d",
   "metadata": {},
   "outputs": [
    {
     "name": "stderr",
     "output_type": "stream",
     "text": [
      "The following objects are masked from Auto (pos = 3):\n",
      "\n",
      "    acceleration, cylinders, displacement, horsepower, mpg, mpg01,\n",
      "    name, origin, weight, year\n",
      "\n",
      "\n",
      "The following objects are masked from Auto (pos = 4):\n",
      "\n",
      "    acceleration, cylinders, displacement, horsepower, mpg, mpg01,\n",
      "    name, origin, weight, year\n",
      "\n",
      "\n",
      "The following objects are masked from Auto (pos = 5):\n",
      "\n",
      "    acceleration, cylinders, displacement, horsepower, mpg, mpg01,\n",
      "    name, origin, weight, year\n",
      "\n",
      "\n",
      "The following objects are masked from Auto (pos = 6):\n",
      "\n",
      "    acceleration, cylinders, displacement, horsepower, mpg, mpg01,\n",
      "    name, origin, weight, year\n",
      "\n",
      "\n",
      "The following objects are masked from Auto (pos = 7):\n",
      "\n",
      "    acceleration, cylinders, displacement, horsepower, mpg, mpg01,\n",
      "    name, origin, weight, year\n",
      "\n",
      "\n",
      "The following objects are masked from Auto (pos = 8):\n",
      "\n",
      "    acceleration, cylinders, displacement, horsepower, mpg, name,\n",
      "    origin, weight, year\n",
      "\n",
      "\n",
      "The following objects are masked from Auto (pos = 9):\n",
      "\n",
      "    acceleration, cylinders, displacement, horsepower, mpg, name,\n",
      "    origin, weight, year\n",
      "\n",
      "\n"
     ]
    }
   ],
   "source": [
    "attach(Auto)\n",
    "Auto$mpg01 <- rep(0, length(mpg))\n",
    "Auto[mpg>median(mpg),10]<-1"
   ]
  },
  {
   "cell_type": "code",
   "execution_count": 73,
   "id": "63bb3ccc",
   "metadata": {},
   "outputs": [
    {
     "data": {
      "text/html": [
       "<style>\n",
       ".list-inline {list-style: none; margin:0; padding: 0}\n",
       ".list-inline>li {display: inline-block}\n",
       ".list-inline>li:not(:last-child)::after {content: \"\\00b7\"; padding: 0 .5ex}\n",
       "</style>\n",
       "<ol class=list-inline><li>'mpg'</li><li>'cylinders'</li><li>'displacement'</li><li>'horsepower'</li><li>'weight'</li><li>'acceleration'</li><li>'year'</li><li>'origin'</li><li>'name'</li><li>'mpg01'</li></ol>\n"
      ],
      "text/latex": [
       "\\begin{enumerate*}\n",
       "\\item 'mpg'\n",
       "\\item 'cylinders'\n",
       "\\item 'displacement'\n",
       "\\item 'horsepower'\n",
       "\\item 'weight'\n",
       "\\item 'acceleration'\n",
       "\\item 'year'\n",
       "\\item 'origin'\n",
       "\\item 'name'\n",
       "\\item 'mpg01'\n",
       "\\end{enumerate*}\n"
      ],
      "text/markdown": [
       "1. 'mpg'\n",
       "2. 'cylinders'\n",
       "3. 'displacement'\n",
       "4. 'horsepower'\n",
       "5. 'weight'\n",
       "6. 'acceleration'\n",
       "7. 'year'\n",
       "8. 'origin'\n",
       "9. 'name'\n",
       "10. 'mpg01'\n",
       "\n",
       "\n"
      ],
      "text/plain": [
       " [1] \"mpg\"          \"cylinders\"    \"displacement\" \"horsepower\"   \"weight\"      \n",
       " [6] \"acceleration\" \"year\"         \"origin\"       \"name\"         \"mpg01\"       "
      ]
     },
     "metadata": {},
     "output_type": "display_data"
    }
   ],
   "source": [
    "colnames(Auto)"
   ]
  },
  {
   "cell_type": "code",
   "execution_count": 78,
   "id": "2a2e509d",
   "metadata": {},
   "outputs": [
    {
     "data": {
      "image/png": "[encoded data removed]",
      "text/plain": [
       "plot without title"
      ]
     },
     "metadata": {
      "image/png": {
       "height": 420,
       "width": 420
      }
     },
     "output_type": "display_data"
    }
   ],
   "source": [
    "pairs(Auto)"
   ]
  },
  {
   "cell_type": "markdown",
   "id": "e55ab0a7",
   "metadata": {},
   "source": [
    "mpg01 is negatively correlated with displacement, horsepower and weight"
   ]
  },
  {
   "cell_type": "code",
   "execution_count": 80,
   "id": "84806eb7",
   "metadata": {},
   "outputs": [
    {
     "data": {
      "text/html": [
       "392"
      ],
      "text/latex": [
       "392"
      ],
      "text/markdown": [
       "392"
      ],
      "text/plain": [
       "[1] 392"
      ]
     },
     "metadata": {},
     "output_type": "display_data"
    }
   ],
   "source": [
    "length(mpg)"
   ]
  },
  {
   "cell_type": "markdown",
   "id": "c19d7068",
   "metadata": {},
   "source": [
    "c/"
   ]
  },
  {
   "cell_type": "code",
   "execution_count": 85,
   "id": "ce5f671c",
   "metadata": {},
   "outputs": [],
   "source": [
    "split1<- sample(c(rep(0, 0.7 * nrow(Auto)), rep(1, 0.3 * nrow(Auto))))\n",
    "train <- split1 == 1\n",
    "test <- split1 ==0"
   ]
  },
  {
   "cell_type": "code",
   "execution_count": 93,
   "id": "b2dbd131",
   "metadata": {},
   "outputs": [],
   "source": [
    "Auto.train <- Auto[train,]\n",
    "Auto.test <- Auto[test,]\n",
    "mpg01.test <- mpg01[test]"
   ]
  },
  {
   "cell_type": "markdown",
   "id": "1cb9dc37",
   "metadata": {},
   "source": [
    "d/"
   ]
  },
  {
   "cell_type": "code",
   "execution_count": 111,
   "id": "daa9cbfa",
   "metadata": {},
   "outputs": [
    {
     "data": {
      "text/plain": [
       "   \n",
       "      0   1\n",
       "  0 107   9\n",
       "  1  26 132"
      ]
     },
     "metadata": {},
     "output_type": "display_data"
    }
   ],
   "source": [
    "lda.fit <- lda(mpg01 ~ weight, data = Auto.train)\n",
    "lda.pred <- predict(lda.fit, Auto.test)\n",
    "table(lda.pred$class, Auto.test$mpg01)"
   ]
  },
  {
   "cell_type": "code",
   "execution_count": 118,
   "id": "504e4ef0",
   "metadata": {},
   "outputs": [
    {
     "data": {
      "text/html": [
       "0.127737226277372"
      ],
      "text/latex": [
       "0.127737226277372"
      ],
      "text/markdown": [
       "0.127737226277372"
      ],
      "text/plain": [
       "[1] 0.1277372"
      ]
     },
     "metadata": {},
     "output_type": "display_data"
    }
   ],
   "source": [
    "1-(107+132)/(107+132+26+9)"
   ]
  },
  {
   "cell_type": "code",
   "execution_count": 96,
   "id": "4311edd9",
   "metadata": {},
   "outputs": [
    {
     "data": {
      "text/plain": [
       "         \n",
       "qda.class   0   1\n",
       "        0 107   9\n",
       "        1  26 132"
      ]
     },
     "metadata": {},
     "output_type": "display_data"
    }
   ],
   "source": [
    "qda.fit <- qda(mpg01 ~ weight, data = Auto.train)\n",
    "qda.class <- predict(lda.fit, Auto.test)$class\n",
    "table(qda.class, Auto.test$mpg01)"
   ]
  },
  {
   "cell_type": "code",
   "execution_count": 98,
   "id": "fba8bbcd",
   "metadata": {},
   "outputs": [
    {
     "data": {
      "text/html": [
       "0.127737226277372"
      ],
      "text/latex": [
       "0.127737226277372"
      ],
      "text/markdown": [
       "0.127737226277372"
      ],
      "text/plain": [
       "[1] 0.1277372"
      ]
     },
     "metadata": {},
     "output_type": "display_data"
    }
   ],
   "source": [
    "1-(107+132)/(107+132+26+9)"
   ]
  },
  {
   "cell_type": "code",
   "execution_count": 116,
   "id": "3e9a55f9",
   "metadata": {},
   "outputs": [
    {
     "data": {
      "text/plain": [
       "          \n",
       "glm.pred.1   0   1\n",
       "         0 117  18\n",
       "         1  16 123"
      ]
     },
     "metadata": {},
     "output_type": "display_data"
    }
   ],
   "source": [
    "glm.fit.1 <- glm(mpg01 ~ weight, data = Auto.train, family=binomial)\n",
    "glm.probs.1 <- predict(glm.fit.1,Auto.test, type=\"response\")\n",
    "glm.pred.1 <- rep(0, length(glm.probs.1))\n",
    "glm.pred.1[glm.probs.1 > 0.5] <- 1\n",
    "table(glm.pred.1,Auto.test$mpg01)"
   ]
  },
  {
   "cell_type": "code",
   "execution_count": 117,
   "id": "45651a5d",
   "metadata": {},
   "outputs": [
    {
     "data": {
      "text/html": [
       "0.124087591240876"
      ],
      "text/latex": [
       "0.124087591240876"
      ],
      "text/markdown": [
       "0.124087591240876"
      ],
      "text/plain": [
       "[1] 0.1240876"
      ]
     },
     "metadata": {},
     "output_type": "display_data"
    }
   ],
   "source": [
    "1-(117+123)/(117+123+16+18)"
   ]
  },
  {
   "cell_type": "code",
   "execution_count": 120,
   "id": "73b14192",
   "metadata": {},
   "outputs": [
    {
     "data": {
      "text/plain": [
       "        \n",
       "knn.pred   0   1\n",
       "       0 112  34\n",
       "       1  21 107"
      ]
     },
     "metadata": {},
     "output_type": "display_data"
    }
   ],
   "source": [
    "train.X.1 = as.matrix(weight[train])\n",
    "test.X.1 = as.matrix(weight[test])\n",
    "train.mpg01 = mpg01[train]\n",
    "set.seed(1)\n",
    "knn.pred = knn(train.X.1, test.X.1, train.mpg01, k = 1)\n",
    "table(knn.pred, Auto.test$mpg01)"
   ]
  },
  {
   "cell_type": "code",
   "execution_count": 122,
   "id": "1dfbb80c",
   "metadata": {},
   "outputs": [
    {
     "data": {
      "text/html": [
       "0.200729927007299"
      ],
      "text/latex": [
       "0.200729927007299"
      ],
      "text/markdown": [
       "0.200729927007299"
      ],
      "text/plain": [
       "[1] 0.2007299"
      ]
     },
     "metadata": {},
     "output_type": "display_data"
    }
   ],
   "source": [
    "1-(112+107)/274"
   ]
  },
  {
   "cell_type": "code",
   "execution_count": 121,
   "id": "0d11300e",
   "metadata": {},
   "outputs": [
    {
     "data": {
      "text/plain": [
       "        \n",
       "knn.pred   0   1\n",
       "       0 116  18\n",
       "       1  17 123"
      ]
     },
     "metadata": {},
     "output_type": "display_data"
    }
   ],
   "source": [
    "train.X.1 = as.matrix(weight[train])\n",
    "test.X.1 = as.matrix(weight[test])\n",
    "train.mpg01 = mpg01[train]\n",
    "set.seed(1)\n",
    "knn.pred = knn(train.X.1, test.X.1, train.mpg01, k = 10)\n",
    "table(knn.pred, Auto.test$mpg01)"
   ]
  },
  {
   "cell_type": "code",
   "execution_count": 124,
   "id": "6a3c4e18",
   "metadata": {
    "scrolled": true
   },
   "outputs": [
    {
     "data": {
      "text/html": [
       "0.127737226277372"
      ],
      "text/latex": [
       "0.127737226277372"
      ],
      "text/markdown": [
       "0.127737226277372"
      ],
      "text/plain": [
       "[1] 0.1277372"
      ]
     },
     "metadata": {},
     "output_type": "display_data"
    }
   ],
   "source": [
    "1-(116+123)/274"
   ]
  },
  {
   "cell_type": "code",
   "execution_count": 125,
   "id": "3f36684f",
   "metadata": {},
   "outputs": [
    {
     "data": {
      "text/plain": [
       "        \n",
       "knn.pred   0   1\n",
       "       0  99   6\n",
       "       1  34 135"
      ]
     },
     "metadata": {},
     "output_type": "display_data"
    }
   ],
   "source": [
    "train.X.1 = as.matrix(weight[train])\n",
    "test.X.1 = as.matrix(weight[test])\n",
    "train.mpg01 = mpg01[train]\n",
    "set.seed(1)\n",
    "knn.pred = knn(train.X.1, test.X.1, train.mpg01, k = 100)\n",
    "table(knn.pred, Auto.test$mpg01)"
   ]
  },
  {
   "cell_type": "code",
   "execution_count": 126,
   "id": "aca9c1e3",
   "metadata": {},
   "outputs": [
    {
     "data": {
      "text/html": [
       "0.145985401459854"
      ],
      "text/latex": [
       "0.145985401459854"
      ],
      "text/markdown": [
       "0.145985401459854"
      ],
      "text/plain": [
       "[1] 0.1459854"
      ]
     },
     "metadata": {},
     "output_type": "display_data"
    }
   ],
   "source": [
    "1-(99+135)/274"
   ]
  }
 ],
 "metadata": {
  "kernelspec": {
   "display_name": "R",
   "language": "R",
   "name": "ir"
  },
  "language_info": {
   "codemirror_mode": "r",
   "file_extension": ".r",
   "mimetype": "text/x-r-source",
   "name": "R",
   "pygments_lexer": "r",
   "version": "4.0.5"
  }
 },
 "nbformat": 4,
 "nbformat_minor": 5
}
