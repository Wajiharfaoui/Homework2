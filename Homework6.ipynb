{
 "cells": [
  {
   "cell_type": "markdown",
   "id": "47ff882c",
   "metadata": {},
   "source": [
    "# Homework 6  \n",
    "Wajih Arfaoui"
   ]
  },
  {
   "cell_type": "markdown",
   "id": "c706ba0e",
   "metadata": {},
   "source": [
    "## Exercise 3"
   ]
  },
  {
   "cell_type": "code",
   "execution_count": 2,
   "id": "df12f699",
   "metadata": {},
   "outputs": [
    {
     "data": {
      "image/png": "[encoded data removed]",
      "text/plain": [
       "plot without title"
      ]
     },
     "metadata": {
      "image/png": {
       "height": 420,
       "width": 420
      }
     },
     "output_type": "display_data"
    }
   ],
   "source": [
    "x = cbind(c(1, 1, 0, 5, 6, 4), c(4, 3, 4, 1, 2, 0))\n",
    "plot (x[,1],x[,2])"
   ]
  },
  {
   "cell_type": "code",
   "execution_count": 4,
   "id": "6d506ba0",
   "metadata": {},
   "outputs": [
    {
     "data": {
      "text/html": [
       "<style>\n",
       ".list-inline {list-style: none; margin:0; padding: 0}\n",
       ".list-inline>li {display: inline-block}\n",
       ".list-inline>li:not(:last-child)::after {content: \"\\00b7\"; padding: 0 .5ex}\n",
       "</style>\n",
       "<ol class=list-inline><li>2</li><li>2</li><li>1</li><li>1</li><li>1</li><li>1</li></ol>\n"
      ],
      "text/latex": [
       "\\begin{enumerate*}\n",
       "\\item 2\n",
       "\\item 2\n",
       "\\item 1\n",
       "\\item 1\n",
       "\\item 1\n",
       "\\item 1\n",
       "\\end{enumerate*}\n"
      ],
      "text/markdown": [
       "1. 2\n",
       "2. 2\n",
       "3. 1\n",
       "4. 1\n",
       "5. 1\n",
       "6. 1\n",
       "\n",
       "\n"
      ],
      "text/plain": [
       "[1] 2 2 1 1 1 1"
      ]
     },
     "metadata": {},
     "output_type": "display_data"
    }
   ],
   "source": [
    "label = sample(2,nrow(x),replace=TRUE)\n",
    "label"
   ]
  },
  {
   "cell_type": "code",
   "execution_count": 6,
   "id": "e9e44df2",
   "metadata": {},
   "outputs": [],
   "source": [
    "cent1 = c(mean(x[label==1, 1]), mean(x[label==1, 2]))\n",
    "cent2 = c(mean(x[label==2, 1]), mean(x[label==2, 2]))"
   ]
  },
  {
   "cell_type": "code",
   "execution_count": 7,
   "id": "cdbafc42",
   "metadata": {},
   "outputs": [
    {
     "data": {
      "text/html": [
       "<style>\n",
       ".list-inline {list-style: none; margin:0; padding: 0}\n",
       ".list-inline>li {display: inline-block}\n",
       ".list-inline>li:not(:last-child)::after {content: \"\\00b7\"; padding: 0 .5ex}\n",
       "</style>\n",
       "<ol class=list-inline><li>3.75</li><li>1.75</li></ol>\n"
      ],
      "text/latex": [
       "\\begin{enumerate*}\n",
       "\\item 3.75\n",
       "\\item 1.75\n",
       "\\end{enumerate*}\n"
      ],
      "text/markdown": [
       "1. 3.75\n",
       "2. 1.75\n",
       "\n",
       "\n"
      ],
      "text/plain": [
       "[1] 3.75 1.75"
      ]
     },
     "metadata": {},
     "output_type": "display_data"
    }
   ],
   "source": [
    "cent1"
   ]
  },
  {
   "cell_type": "code",
   "execution_count": 8,
   "id": "a2ab84b4",
   "metadata": {},
   "outputs": [
    {
     "data": {
      "text/html": [
       "<style>\n",
       ".list-inline {list-style: none; margin:0; padding: 0}\n",
       ".list-inline>li {display: inline-block}\n",
       ".list-inline>li:not(:last-child)::after {content: \"\\00b7\"; padding: 0 .5ex}\n",
       "</style>\n",
       "<ol class=list-inline><li>1</li><li>3.5</li></ol>\n"
      ],
      "text/latex": [
       "\\begin{enumerate*}\n",
       "\\item 1\n",
       "\\item 3.5\n",
       "\\end{enumerate*}\n"
      ],
      "text/markdown": [
       "1. 1\n",
       "2. 3.5\n",
       "\n",
       "\n"
      ],
      "text/plain": [
       "[1] 1.0 3.5"
      ]
     },
     "metadata": {},
     "output_type": "display_data"
    }
   ],
   "source": [
    "cent2"
   ]
  },
  {
   "cell_type": "code",
   "execution_count": 11,
   "id": "cd387637",
   "metadata": {},
   "outputs": [],
   "source": [
    "euclidean_dist = function (a,b) {\n",
    "    result = sqrt((a[1]-b[1])^2+(a[2]-b[2])^2)\n",
    "    return (result)\n",
    "}"
   ]
  },
  {
   "cell_type": "code",
   "execution_count": 12,
   "id": "46c073da",
   "metadata": {},
   "outputs": [],
   "source": [
    "labeling = function(x, cent1, cent2) {\n",
    "  labels = rep(NA, nrow(x))\n",
    "  for (i in 1:nrow(x)) {\n",
    "    if (euclidean_dist(x[i,], cent1) < euclidean_dist(x[i,], cent2)) {\n",
    "      labels[i] = 1\n",
    "    } else {\n",
    "      labels[i] = 2\n",
    "    }\n",
    "  }\n",
    "  return(labels)\n",
    "}"
   ]
  },
  {
   "cell_type": "code",
   "execution_count": 14,
   "id": "f216a549",
   "metadata": {},
   "outputs": [
    {
     "data": {
      "text/html": [
       "<style>\n",
       ".list-inline {list-style: none; margin:0; padding: 0}\n",
       ".list-inline>li {display: inline-block}\n",
       ".list-inline>li:not(:last-child)::after {content: \"\\00b7\"; padding: 0 .5ex}\n",
       "</style>\n",
       "<ol class=list-inline><li>2</li><li>2</li><li>2</li><li>1</li><li>1</li><li>1</li></ol>\n"
      ],
      "text/latex": [
       "\\begin{enumerate*}\n",
       "\\item 2\n",
       "\\item 2\n",
       "\\item 2\n",
       "\\item 1\n",
       "\\item 1\n",
       "\\item 1\n",
       "\\end{enumerate*}\n"
      ],
      "text/markdown": [
       "1. 2\n",
       "2. 2\n",
       "3. 2\n",
       "4. 1\n",
       "5. 1\n",
       "6. 1\n",
       "\n",
       "\n"
      ],
      "text/plain": [
       "[1] 2 2 2 1 1 1"
      ]
     },
     "metadata": {},
     "output_type": "display_data"
    }
   ],
   "source": [
    "label = labeling(x, cent1, cent2)\n",
    "label"
   ]
  },
  {
   "cell_type": "code",
   "execution_count": 44,
   "id": "9dca8e56",
   "metadata": {},
   "outputs": [
    {
     "name": "stdout",
     "output_type": "stream",
     "text": [
      "[1] 5 1\n",
      "[1] 0.6666667 3.6666667\n",
      "[1] 2 2 2 1 1 1\n"
     ]
    }
   ],
   "source": [
    "  cent1 = c(mean(x[label==1, 1]), mean(x[label==1, 2]))\n",
    "  cent2 = c(mean(x[label==2, 1]), mean(x[label==2, 2]))\n",
    "  print(cent1)\n",
    "  print(cent2)\n",
    "  label = labeling(x, cent1, cent2)\n",
    "  print(label)"
   ]
  },
  {
   "cell_type": "code",
   "execution_count": 46,
   "id": "f3a11330",
   "metadata": {},
   "outputs": [
    {
     "data": {
      "image/png": "[encoded data removed]",
      "text/plain": [
       "plot without title"
      ]
     },
     "metadata": {
      "image/png": {
       "height": 420,
       "width": 420
      }
     },
     "output_type": "display_data"
    }
   ],
   "source": [
    "plot(x[,1], x[,2],col=c(1,2),pch=15,cex=1)\n",
    "points(cent1[1], cent1[2], col=2, pch=5)\n",
    "points(cent2[1], cent2[2], col=1, pch=5)"
   ]
  },
  {
   "cell_type": "markdown",
   "id": "dbf2f753",
   "metadata": {},
   "source": [
    "## Exercise 8"
   ]
  },
  {
   "cell_type": "code",
   "execution_count": 47,
   "id": "25864baf",
   "metadata": {},
   "outputs": [],
   "source": [
    "library(ISLR)"
   ]
  },
  {
   "cell_type": "code",
   "execution_count": 50,
   "id": "41afbc2d",
   "metadata": {},
   "outputs": [
    {
     "data": {
      "text/html": [
       "<style>\n",
       ".list-inline {list-style: none; margin:0; padding: 0}\n",
       ".list-inline>li {display: inline-block}\n",
       ".list-inline>li:not(:last-child)::after {content: \"\\00b7\"; padding: 0 .5ex}\n",
       "</style>\n",
       "<ol class=list-inline><li>0.620060394787374</li><li>0.24744128813496</li><li>0.0891407951452074</li><li>0.0433575219324588</li></ol>\n"
      ],
      "text/latex": [
       "\\begin{enumerate*}\n",
       "\\item 0.620060394787374\n",
       "\\item 0.24744128813496\n",
       "\\item 0.0891407951452074\n",
       "\\item 0.0433575219324588\n",
       "\\end{enumerate*}\n"
      ],
      "text/markdown": [
       "1. 0.620060394787374\n",
       "2. 0.24744128813496\n",
       "3. 0.0891407951452074\n",
       "4. 0.0433575219324588\n",
       "\n",
       "\n"
      ],
      "text/plain": [
       "[1] 0.62006039 0.24744129 0.08914080 0.04335752"
      ]
     },
     "metadata": {},
     "output_type": "display_data"
    }
   ],
   "source": [
    "pr = prcomp(USArrests, center=T, scale=T)\n",
    "var = pr$sdev^2\n",
    "pve = var / sum(var)\n",
    "pve"
   ]
  },
  {
   "cell_type": "code",
   "execution_count": 64,
   "id": "76f8618d",
   "metadata": {},
   "outputs": [],
   "source": [
    "loading = pr$rotation\n",
    "pve2 = rep (NA,4)\n",
    "mean = apply(USArrests, 2, mean)\n",
    "sdev = sqrt(apply(USArrests, 2, var))\n"
   ]
  },
  {
   "cell_type": "code",
   "execution_count": 65,
   "id": "3605cb77",
   "metadata": {},
   "outputs": [],
   "source": [
    "dsc = sweep(USArrests, MARGIN=2, mean,\"-\")\n",
    "dsc =  sweep(dsc, MARGIN=2, sdev,\"/\")"
   ]
  },
  {
   "cell_type": "code",
   "execution_count": 66,
   "id": "0032457e",
   "metadata": {},
   "outputs": [
    {
     "data": {
      "text/html": [
       "<style>\n",
       ".list-inline {list-style: none; margin:0; padding: 0}\n",
       ".list-inline>li {display: inline-block}\n",
       ".list-inline>li:not(:last-child)::after {content: \"\\00b7\"; padding: 0 .5ex}\n",
       "</style>\n",
       "<ol class=list-inline><li>0.620060394787374</li><li>0.24744128813496</li><li>0.0891407951452075</li><li>0.0433575219324588</li></ol>\n"
      ],
      "text/latex": [
       "\\begin{enumerate*}\n",
       "\\item 0.620060394787374\n",
       "\\item 0.24744128813496\n",
       "\\item 0.0891407951452075\n",
       "\\item 0.0433575219324588\n",
       "\\end{enumerate*}\n"
      ],
      "text/markdown": [
       "1. 0.620060394787374\n",
       "2. 0.24744128813496\n",
       "3. 0.0891407951452075\n",
       "4. 0.0433575219324588\n",
       "\n",
       "\n"
      ],
      "text/plain": [
       "[1] 0.62006039 0.24744129 0.08914080 0.04335752"
      ]
     },
     "metadata": {},
     "output_type": "display_data"
    }
   ],
   "source": [
    "for (i in 1:4){\n",
    "    x = sweep(dsc, MARGIN=2, loading[,i], \"*\")\n",
    "    pc = apply(x,1,sum)\n",
    "    pve2[i] = sum(pc^2)\n",
    "}\n",
    "pve2 = pve2/sum(dsc^2)\n",
    "pve2"
   ]
  },
  {
   "cell_type": "markdown",
   "id": "555a198a",
   "metadata": {},
   "source": [
    "## Exercise 9"
   ]
  },
  {
   "cell_type": "code",
   "execution_count": 67,
   "id": "ae29269c",
   "metadata": {},
   "outputs": [
    {
     "data": {
      "image/png": "[encoded data removed]",
      "text/plain": [
       "Plot with title \"Cluster Dendrogram\""
      ]
     },
     "metadata": {
      "image/png": {
       "height": 420,
       "width": 420
      }
     },
     "output_type": "display_data"
    }
   ],
   "source": [
    "hier = hclust(dist(USArrests), method=\"complete\")\n",
    "plot(hier)"
   ]
  },
  {
   "cell_type": "code",
   "execution_count": 68,
   "id": "3d420f46",
   "metadata": {},
   "outputs": [
    {
     "data": {
      "text/html": [
       "<style>\n",
       ".dl-inline {width: auto; margin:0; padding: 0}\n",
       ".dl-inline>dt, .dl-inline>dd {float: none; width: auto; display: inline-block}\n",
       ".dl-inline>dt::after {content: \":\\0020\"; padding-right: .5ex}\n",
       ".dl-inline>dt:not(:first-of-type) {padding-left: .5ex}\n",
       "</style><dl class=dl-inline><dt>Alabama</dt><dd>1</dd><dt>Alaska</dt><dd>1</dd><dt>Arizona</dt><dd>1</dd><dt>Arkansas</dt><dd>2</dd><dt>California</dt><dd>1</dd><dt>Colorado</dt><dd>2</dd><dt>Connecticut</dt><dd>3</dd><dt>Delaware</dt><dd>1</dd><dt>Florida</dt><dd>1</dd><dt>Georgia</dt><dd>2</dd><dt>Hawaii</dt><dd>3</dd><dt>Idaho</dt><dd>3</dd><dt>Illinois</dt><dd>1</dd><dt>Indiana</dt><dd>3</dd><dt>Iowa</dt><dd>3</dd><dt>Kansas</dt><dd>3</dd><dt>Kentucky</dt><dd>3</dd><dt>Louisiana</dt><dd>1</dd><dt>Maine</dt><dd>3</dd><dt>Maryland</dt><dd>1</dd><dt>Massachusetts</dt><dd>2</dd><dt>Michigan</dt><dd>1</dd><dt>Minnesota</dt><dd>3</dd><dt>Mississippi</dt><dd>1</dd><dt>Missouri</dt><dd>2</dd><dt>Montana</dt><dd>3</dd><dt>Nebraska</dt><dd>3</dd><dt>Nevada</dt><dd>1</dd><dt>New Hampshire</dt><dd>3</dd><dt>New Jersey</dt><dd>2</dd><dt>New Mexico</dt><dd>1</dd><dt>New York</dt><dd>1</dd><dt>North Carolina</dt><dd>1</dd><dt>North Dakota</dt><dd>3</dd><dt>Ohio</dt><dd>3</dd><dt>Oklahoma</dt><dd>2</dd><dt>Oregon</dt><dd>2</dd><dt>Pennsylvania</dt><dd>3</dd><dt>Rhode Island</dt><dd>2</dd><dt>South Carolina</dt><dd>1</dd><dt>South Dakota</dt><dd>3</dd><dt>Tennessee</dt><dd>2</dd><dt>Texas</dt><dd>2</dd><dt>Utah</dt><dd>3</dd><dt>Vermont</dt><dd>3</dd><dt>Virginia</dt><dd>2</dd><dt>Washington</dt><dd>2</dd><dt>West Virginia</dt><dd>3</dd><dt>Wisconsin</dt><dd>3</dd><dt>Wyoming</dt><dd>2</dd></dl>\n"
      ],
      "text/latex": [
       "\\begin{description*}\n",
       "\\item[Alabama] 1\n",
       "\\item[Alaska] 1\n",
       "\\item[Arizona] 1\n",
       "\\item[Arkansas] 2\n",
       "\\item[California] 1\n",
       "\\item[Colorado] 2\n",
       "\\item[Connecticut] 3\n",
       "\\item[Delaware] 1\n",
       "\\item[Florida] 1\n",
       "\\item[Georgia] 2\n",
       "\\item[Hawaii] 3\n",
       "\\item[Idaho] 3\n",
       "\\item[Illinois] 1\n",
       "\\item[Indiana] 3\n",
       "\\item[Iowa] 3\n",
       "\\item[Kansas] 3\n",
       "\\item[Kentucky] 3\n",
       "\\item[Louisiana] 1\n",
       "\\item[Maine] 3\n",
       "\\item[Maryland] 1\n",
       "\\item[Massachusetts] 2\n",
       "\\item[Michigan] 1\n",
       "\\item[Minnesota] 3\n",
       "\\item[Mississippi] 1\n",
       "\\item[Missouri] 2\n",
       "\\item[Montana] 3\n",
       "\\item[Nebraska] 3\n",
       "\\item[Nevada] 1\n",
       "\\item[New Hampshire] 3\n",
       "\\item[New Jersey] 2\n",
       "\\item[New Mexico] 1\n",
       "\\item[New York] 1\n",
       "\\item[North Carolina] 1\n",
       "\\item[North Dakota] 3\n",
       "\\item[Ohio] 3\n",
       "\\item[Oklahoma] 2\n",
       "\\item[Oregon] 2\n",
       "\\item[Pennsylvania] 3\n",
       "\\item[Rhode Island] 2\n",
       "\\item[South Carolina] 1\n",
       "\\item[South Dakota] 3\n",
       "\\item[Tennessee] 2\n",
       "\\item[Texas] 2\n",
       "\\item[Utah] 3\n",
       "\\item[Vermont] 3\n",
       "\\item[Virginia] 2\n",
       "\\item[Washington] 2\n",
       "\\item[West Virginia] 3\n",
       "\\item[Wisconsin] 3\n",
       "\\item[Wyoming] 2\n",
       "\\end{description*}\n"
      ],
      "text/markdown": [
       "Alabama\n",
       ":   1Alaska\n",
       ":   1Arizona\n",
       ":   1Arkansas\n",
       ":   2California\n",
       ":   1Colorado\n",
       ":   2Connecticut\n",
       ":   3Delaware\n",
       ":   1Florida\n",
       ":   1Georgia\n",
       ":   2Hawaii\n",
       ":   3Idaho\n",
       ":   3Illinois\n",
       ":   1Indiana\n",
       ":   3Iowa\n",
       ":   3Kansas\n",
       ":   3Kentucky\n",
       ":   3Louisiana\n",
       ":   1Maine\n",
       ":   3Maryland\n",
       ":   1Massachusetts\n",
       ":   2Michigan\n",
       ":   1Minnesota\n",
       ":   3Mississippi\n",
       ":   1Missouri\n",
       ":   2Montana\n",
       ":   3Nebraska\n",
       ":   3Nevada\n",
       ":   1New Hampshire\n",
       ":   3New Jersey\n",
       ":   2New Mexico\n",
       ":   1New York\n",
       ":   1North Carolina\n",
       ":   1North Dakota\n",
       ":   3Ohio\n",
       ":   3Oklahoma\n",
       ":   2Oregon\n",
       ":   2Pennsylvania\n",
       ":   3Rhode Island\n",
       ":   2South Carolina\n",
       ":   1South Dakota\n",
       ":   3Tennessee\n",
       ":   2Texas\n",
       ":   2Utah\n",
       ":   3Vermont\n",
       ":   3Virginia\n",
       ":   2Washington\n",
       ":   2West Virginia\n",
       ":   3Wisconsin\n",
       ":   3Wyoming\n",
       ":   2\n",
       "\n"
      ],
      "text/plain": [
       "       Alabama         Alaska        Arizona       Arkansas     California \n",
       "             1              1              1              2              1 \n",
       "      Colorado    Connecticut       Delaware        Florida        Georgia \n",
       "             2              3              1              1              2 \n",
       "        Hawaii          Idaho       Illinois        Indiana           Iowa \n",
       "             3              3              1              3              3 \n",
       "        Kansas       Kentucky      Louisiana          Maine       Maryland \n",
       "             3              3              1              3              1 \n",
       " Massachusetts       Michigan      Minnesota    Mississippi       Missouri \n",
       "             2              1              3              1              2 \n",
       "       Montana       Nebraska         Nevada  New Hampshire     New Jersey \n",
       "             3              3              1              3              2 \n",
       "    New Mexico       New York North Carolina   North Dakota           Ohio \n",
       "             1              1              1              3              3 \n",
       "      Oklahoma         Oregon   Pennsylvania   Rhode Island South Carolina \n",
       "             2              2              3              2              1 \n",
       "  South Dakota      Tennessee          Texas           Utah        Vermont \n",
       "             3              2              2              3              3 \n",
       "      Virginia     Washington  West Virginia      Wisconsin        Wyoming \n",
       "             2              2              3              3              2 "
      ]
     },
     "metadata": {},
     "output_type": "display_data"
    }
   ],
   "source": [
    "cutree(hier, 3)"
   ]
  },
  {
   "cell_type": "code",
   "execution_count": 70,
   "id": "3866e599",
   "metadata": {},
   "outputs": [
    {
     "data": {
      "image/png": "[encoded data removed]",
      "text/plain": [
       "Plot with title \"Cluster Dendrogram\""
      ]
     },
     "metadata": {
      "image/png": {
       "height": 420,
       "width": 420
      }
     },
     "output_type": "display_data"
    }
   ],
   "source": [
    "scaled =scale(USArrests)\n",
    "h.scaled = hclust(dist(scaled), method=\"complete\")\n",
    "plot(h.scaled)"
   ]
  },
  {
   "cell_type": "code",
   "execution_count": 72,
   "id": "4722f334",
   "metadata": {},
   "outputs": [
    {
     "data": {
      "text/html": [
       "<style>\n",
       ".dl-inline {width: auto; margin:0; padding: 0}\n",
       ".dl-inline>dt, .dl-inline>dd {float: none; width: auto; display: inline-block}\n",
       ".dl-inline>dt::after {content: \":\\0020\"; padding-right: .5ex}\n",
       ".dl-inline>dt:not(:first-of-type) {padding-left: .5ex}\n",
       "</style><dl class=dl-inline><dt>Alabama</dt><dd>1</dd><dt>Alaska</dt><dd>1</dd><dt>Arizona</dt><dd>2</dd><dt>Arkansas</dt><dd>3</dd><dt>California</dt><dd>2</dd><dt>Colorado</dt><dd>2</dd><dt>Connecticut</dt><dd>3</dd><dt>Delaware</dt><dd>3</dd><dt>Florida</dt><dd>2</dd><dt>Georgia</dt><dd>1</dd><dt>Hawaii</dt><dd>3</dd><dt>Idaho</dt><dd>3</dd><dt>Illinois</dt><dd>2</dd><dt>Indiana</dt><dd>3</dd><dt>Iowa</dt><dd>3</dd><dt>Kansas</dt><dd>3</dd><dt>Kentucky</dt><dd>3</dd><dt>Louisiana</dt><dd>1</dd><dt>Maine</dt><dd>3</dd><dt>Maryland</dt><dd>2</dd><dt>Massachusetts</dt><dd>3</dd><dt>Michigan</dt><dd>2</dd><dt>Minnesota</dt><dd>3</dd><dt>Mississippi</dt><dd>1</dd><dt>Missouri</dt><dd>3</dd><dt>Montana</dt><dd>3</dd><dt>Nebraska</dt><dd>3</dd><dt>Nevada</dt><dd>2</dd><dt>New Hampshire</dt><dd>3</dd><dt>New Jersey</dt><dd>3</dd><dt>New Mexico</dt><dd>2</dd><dt>New York</dt><dd>2</dd><dt>North Carolina</dt><dd>1</dd><dt>North Dakota</dt><dd>3</dd><dt>Ohio</dt><dd>3</dd><dt>Oklahoma</dt><dd>3</dd><dt>Oregon</dt><dd>3</dd><dt>Pennsylvania</dt><dd>3</dd><dt>Rhode Island</dt><dd>3</dd><dt>South Carolina</dt><dd>1</dd><dt>South Dakota</dt><dd>3</dd><dt>Tennessee</dt><dd>1</dd><dt>Texas</dt><dd>2</dd><dt>Utah</dt><dd>3</dd><dt>Vermont</dt><dd>3</dd><dt>Virginia</dt><dd>3</dd><dt>Washington</dt><dd>3</dd><dt>West Virginia</dt><dd>3</dd><dt>Wisconsin</dt><dd>3</dd><dt>Wyoming</dt><dd>3</dd></dl>\n"
      ],
      "text/latex": [
       "\\begin{description*}\n",
       "\\item[Alabama] 1\n",
       "\\item[Alaska] 1\n",
       "\\item[Arizona] 2\n",
       "\\item[Arkansas] 3\n",
       "\\item[California] 2\n",
       "\\item[Colorado] 2\n",
       "\\item[Connecticut] 3\n",
       "\\item[Delaware] 3\n",
       "\\item[Florida] 2\n",
       "\\item[Georgia] 1\n",
       "\\item[Hawaii] 3\n",
       "\\item[Idaho] 3\n",
       "\\item[Illinois] 2\n",
       "\\item[Indiana] 3\n",
       "\\item[Iowa] 3\n",
       "\\item[Kansas] 3\n",
       "\\item[Kentucky] 3\n",
       "\\item[Louisiana] 1\n",
       "\\item[Maine] 3\n",
       "\\item[Maryland] 2\n",
       "\\item[Massachusetts] 3\n",
       "\\item[Michigan] 2\n",
       "\\item[Minnesota] 3\n",
       "\\item[Mississippi] 1\n",
       "\\item[Missouri] 3\n",
       "\\item[Montana] 3\n",
       "\\item[Nebraska] 3\n",
       "\\item[Nevada] 2\n",
       "\\item[New Hampshire] 3\n",
       "\\item[New Jersey] 3\n",
       "\\item[New Mexico] 2\n",
       "\\item[New York] 2\n",
       "\\item[North Carolina] 1\n",
       "\\item[North Dakota] 3\n",
       "\\item[Ohio] 3\n",
       "\\item[Oklahoma] 3\n",
       "\\item[Oregon] 3\n",
       "\\item[Pennsylvania] 3\n",
       "\\item[Rhode Island] 3\n",
       "\\item[South Carolina] 1\n",
       "\\item[South Dakota] 3\n",
       "\\item[Tennessee] 1\n",
       "\\item[Texas] 2\n",
       "\\item[Utah] 3\n",
       "\\item[Vermont] 3\n",
       "\\item[Virginia] 3\n",
       "\\item[Washington] 3\n",
       "\\item[West Virginia] 3\n",
       "\\item[Wisconsin] 3\n",
       "\\item[Wyoming] 3\n",
       "\\end{description*}\n"
      ],
      "text/markdown": [
       "Alabama\n",
       ":   1Alaska\n",
       ":   1Arizona\n",
       ":   2Arkansas\n",
       ":   3California\n",
       ":   2Colorado\n",
       ":   2Connecticut\n",
       ":   3Delaware\n",
       ":   3Florida\n",
       ":   2Georgia\n",
       ":   1Hawaii\n",
       ":   3Idaho\n",
       ":   3Illinois\n",
       ":   2Indiana\n",
       ":   3Iowa\n",
       ":   3Kansas\n",
       ":   3Kentucky\n",
       ":   3Louisiana\n",
       ":   1Maine\n",
       ":   3Maryland\n",
       ":   2Massachusetts\n",
       ":   3Michigan\n",
       ":   2Minnesota\n",
       ":   3Mississippi\n",
       ":   1Missouri\n",
       ":   3Montana\n",
       ":   3Nebraska\n",
       ":   3Nevada\n",
       ":   2New Hampshire\n",
       ":   3New Jersey\n",
       ":   3New Mexico\n",
       ":   2New York\n",
       ":   2North Carolina\n",
       ":   1North Dakota\n",
       ":   3Ohio\n",
       ":   3Oklahoma\n",
       ":   3Oregon\n",
       ":   3Pennsylvania\n",
       ":   3Rhode Island\n",
       ":   3South Carolina\n",
       ":   1South Dakota\n",
       ":   3Tennessee\n",
       ":   1Texas\n",
       ":   2Utah\n",
       ":   3Vermont\n",
       ":   3Virginia\n",
       ":   3Washington\n",
       ":   3West Virginia\n",
       ":   3Wisconsin\n",
       ":   3Wyoming\n",
       ":   3\n",
       "\n"
      ],
      "text/plain": [
       "       Alabama         Alaska        Arizona       Arkansas     California \n",
       "             1              1              2              3              2 \n",
       "      Colorado    Connecticut       Delaware        Florida        Georgia \n",
       "             2              3              3              2              1 \n",
       "        Hawaii          Idaho       Illinois        Indiana           Iowa \n",
       "             3              3              2              3              3 \n",
       "        Kansas       Kentucky      Louisiana          Maine       Maryland \n",
       "             3              3              1              3              2 \n",
       " Massachusetts       Michigan      Minnesota    Mississippi       Missouri \n",
       "             3              2              3              1              3 \n",
       "       Montana       Nebraska         Nevada  New Hampshire     New Jersey \n",
       "             3              3              2              3              3 \n",
       "    New Mexico       New York North Carolina   North Dakota           Ohio \n",
       "             2              2              1              3              3 \n",
       "      Oklahoma         Oregon   Pennsylvania   Rhode Island South Carolina \n",
       "             3              3              3              3              1 \n",
       "  South Dakota      Tennessee          Texas           Utah        Vermont \n",
       "             3              1              2              3              3 \n",
       "      Virginia     Washington  West Virginia      Wisconsin        Wyoming \n",
       "             3              3              3              3              3 "
      ]
     },
     "metadata": {},
     "output_type": "display_data"
    }
   ],
   "source": [
    "cutree(h.scaled, 3)"
   ]
  },
  {
   "cell_type": "markdown",
   "id": "e460d4f1",
   "metadata": {},
   "source": [
    "Scaling the variables has an effect on the height if the dendogram. Hence, it affects the culsters obtained from cutting the dendogram. I think that for USAressets dataset, variables need to be standardized because they are measured in different units"
   ]
  },
  {
   "cell_type": "markdown",
   "id": "f2a1d0ee",
   "metadata": {},
   "source": [
    "## Exercise 10"
   ]
  },
  {
   "cell_type": "code",
   "execution_count": 101,
   "id": "5a696d14",
   "metadata": {},
   "outputs": [],
   "source": [
    "x = matrix(rnorm(20*3*50, mean=0, sd=0.001), ncol=50)"
   ]
  },
  {
   "cell_type": "code",
   "execution_count": 102,
   "id": "6fade5fe",
   "metadata": {},
   "outputs": [],
   "source": [
    "x[1:20, 2] = 1\n",
    "x[21:40, 2] = 1.5\n",
    "x[41:60, 1] = 1\n",
    "x[21:40, 1] = 1.5"
   ]
  },
  {
   "cell_type": "code",
   "execution_count": 103,
   "id": "c87dd1b5",
   "metadata": {},
   "outputs": [
    {
     "data": {
      "text/plain": [
       "Importance of components:\n",
       "                          PC1    PC2      PC3      PC4      PC5      PC6\n",
       "Standard deviation     0.6723 0.5823 0.001858 0.001698 0.001653 0.001561\n",
       "Proportion of Variance 0.5714 0.4286 0.000000 0.000000 0.000000 0.000000\n",
       "Cumulative Proportion  0.5714 0.9999 0.999950 0.999950 0.999950 0.999960\n",
       "                            PC7     PC8     PC9     PC10     PC11     PC12\n",
       "Standard deviation     0.001553 0.00151 0.00144 0.001414 0.001363 0.001342\n",
       "Proportion of Variance 0.000000 0.00000 0.00000 0.000000 0.000000 0.000000\n",
       "Cumulative Proportion  0.999960 0.99996 0.99996 0.999970 0.999970 0.999970\n",
       "                           PC13     PC14     PC15     PC16     PC17     PC18\n",
       "Standard deviation     0.001253 0.001241 0.001221 0.001184 0.001168 0.001128\n",
       "Proportion of Variance 0.000000 0.000000 0.000000 0.000000 0.000000 0.000000\n",
       "Cumulative Proportion  0.999970 0.999980 0.999980 0.999980 0.999980 0.999980\n",
       "                           PC19     PC20     PC21     PC22      PC23      PC24\n",
       "Standard deviation     0.001087 0.001051 0.001011 0.001005 0.0009841 0.0009471\n",
       "Proportion of Variance 0.000000 0.000000 0.000000 0.000000 0.0000000 0.0000000\n",
       "Cumulative Proportion  0.999980 0.999980 0.999990 0.999990 0.9999900 0.9999900\n",
       "                            PC25      PC26      PC27      PC28      PC29\n",
       "Standard deviation     0.0008984 0.0008367 0.0008127 0.0007899 0.0007692\n",
       "Proportion of Variance 0.0000000 0.0000000 0.0000000 0.0000000 0.0000000\n",
       "Cumulative Proportion  0.9999900 0.9999900 0.9999900 0.9999900 0.9999900\n",
       "                           PC30      PC31      PC32      PC33     PC34\n",
       "Standard deviation     0.000753 0.0007227 0.0006651 0.0006643 0.000645\n",
       "Proportion of Variance 0.000000 0.0000000 0.0000000 0.0000000 0.000000\n",
       "Cumulative Proportion  0.999990 1.0000000 1.0000000 1.0000000 1.000000\n",
       "                            PC35      PC36      PC37      PC38      PC39\n",
       "Standard deviation     0.0005622 0.0005374 0.0005125 0.0004992 0.0004572\n",
       "Proportion of Variance 0.0000000 0.0000000 0.0000000 0.0000000 0.0000000\n",
       "Cumulative Proportion  1.0000000 1.0000000 1.0000000 1.0000000 1.0000000\n",
       "                            PC40      PC41      PC42      PC43      PC44\n",
       "Standard deviation     0.0004191 0.0004001 0.0003688 0.0003396 0.0003073\n",
       "Proportion of Variance 0.0000000 0.0000000 0.0000000 0.0000000 0.0000000\n",
       "Cumulative Proportion  1.0000000 1.0000000 1.0000000 1.0000000 1.0000000\n",
       "                            PC45      PC46      PC47      PC48      PC49\n",
       "Standard deviation     0.0002512 0.0002396 0.0002116 0.0001762 0.0001477\n",
       "Proportion of Variance 0.0000000 0.0000000 0.0000000 0.0000000 0.0000000\n",
       "Cumulative Proportion  1.0000000 1.0000000 1.0000000 1.0000000 1.0000000\n",
       "                            PC50\n",
       "Standard deviation     0.0001093\n",
       "Proportion of Variance 0.0000000\n",
       "Cumulative Proportion  1.0000000"
      ]
     },
     "metadata": {},
     "output_type": "display_data"
    }
   ],
   "source": [
    "pca= prcomp(x)\n",
    "summary(pca)"
   ]
  },
  {
   "cell_type": "code",
   "execution_count": 104,
   "id": "46edba0e",
   "metadata": {},
   "outputs": [
    {
     "data": {
      "text/html": [
       "<table class=\"dataframe\">\n",
       "<caption>A matrix: 60 × 2 of type dbl</caption>\n",
       "<thead>\n",
       "\t<tr><th scope=col>PC1</th><th scope=col>PC2</th></tr>\n",
       "</thead>\n",
       "<tbody>\n",
       "\t<tr><td>-0.4723903</td><td>-0.7071700216</td></tr>\n",
       "\t<tr><td>-0.4711889</td><td>-0.7059692537</td></tr>\n",
       "\t<tr><td>-0.4716757</td><td>-0.7064565539</td></tr>\n",
       "\t<tr><td>-0.4722778</td><td>-0.7070555051</td></tr>\n",
       "\t<tr><td>-0.4720193</td><td>-0.7067952841</td></tr>\n",
       "\t<tr><td>-0.4711998</td><td>-0.7059821876</td></tr>\n",
       "\t<tr><td>-0.4719383</td><td>-0.7067181204</td></tr>\n",
       "\t<tr><td>-0.4708994</td><td>-0.7056797200</td></tr>\n",
       "\t<tr><td>-0.4727473</td><td>-0.7075270562</td></tr>\n",
       "\t<tr><td>-0.4717633</td><td>-0.7065435043</td></tr>\n",
       "\t<tr><td>-0.4719186</td><td>-0.7067018772</td></tr>\n",
       "\t<tr><td>-0.4716499</td><td>-0.7064276981</td></tr>\n",
       "\t<tr><td>-0.4730853</td><td>-0.7078650847</td></tr>\n",
       "\t<tr><td>-0.4724694</td><td>-0.7072488026</td></tr>\n",
       "\t<tr><td>-0.4726525</td><td>-0.7074341602</td></tr>\n",
       "\t<tr><td>-0.4730668</td><td>-0.7078424331</td></tr>\n",
       "\t<tr><td>-0.4719737</td><td>-0.7067513197</td></tr>\n",
       "\t<tr><td>-0.4725834</td><td>-0.7073628772</td></tr>\n",
       "\t<tr><td>-0.4717624</td><td>-0.7065434380</td></tr>\n",
       "\t<tr><td>-0.4728437</td><td>-0.7076167443</td></tr>\n",
       "\t<tr><td> 0.9428838</td><td>-0.0006647731</td></tr>\n",
       "\t<tr><td> 0.9428834</td><td>-0.0006646188</td></tr>\n",
       "\t<tr><td> 0.9428821</td><td>-0.0006644411</td></tr>\n",
       "\t<tr><td> 0.9428831</td><td>-0.0006628270</td></tr>\n",
       "\t<tr><td> 0.9428804</td><td>-0.0006607218</td></tr>\n",
       "\t<tr><td> 0.9428829</td><td>-0.0006639532</td></tr>\n",
       "\t<tr><td> 0.9428806</td><td>-0.0006655933</td></tr>\n",
       "\t<tr><td> 0.9428820</td><td>-0.0006650528</td></tr>\n",
       "\t<tr><td> 0.9428835</td><td>-0.0006620988</td></tr>\n",
       "\t<tr><td> 0.9428821</td><td>-0.0006657523</td></tr>\n",
       "\t<tr><td> 0.9428842</td><td>-0.0006650227</td></tr>\n",
       "\t<tr><td> 0.9428834</td><td>-0.0006642546</td></tr>\n",
       "\t<tr><td> 0.9428864</td><td>-0.0006649977</td></tr>\n",
       "\t<tr><td> 0.9428841</td><td>-0.0006640555</td></tr>\n",
       "\t<tr><td> 0.9428800</td><td>-0.0006647456</td></tr>\n",
       "\t<tr><td> 0.9428839</td><td>-0.0006624598</td></tr>\n",
       "\t<tr><td> 0.9428815</td><td>-0.0006623391</td></tr>\n",
       "\t<tr><td> 0.9428823</td><td>-0.0006640782</td></tr>\n",
       "\t<tr><td> 0.9428826</td><td>-0.0006615517</td></tr>\n",
       "\t<tr><td> 0.9428822</td><td>-0.0006634804</td></tr>\n",
       "\t<tr><td>-0.4711831</td><td> 0.7079496407</td></tr>\n",
       "\t<tr><td>-0.4701455</td><td> 0.7069167524</td></tr>\n",
       "\t<tr><td>-0.4696487</td><td> 0.7064189662</td></tr>\n",
       "\t<tr><td>-0.4709294</td><td> 0.7076995687</td></tr>\n",
       "\t<tr><td>-0.4711529</td><td> 0.7079238609</td></tr>\n",
       "\t<tr><td>-0.4699701</td><td> 0.7067423501</td></tr>\n",
       "\t<tr><td>-0.4715053</td><td> 0.7082781568</td></tr>\n",
       "\t<tr><td>-0.4708480</td><td> 0.7076189393</td></tr>\n",
       "\t<tr><td>-0.4714849</td><td> 0.7082570659</td></tr>\n",
       "\t<tr><td>-0.4715491</td><td> 0.7083236139</td></tr>\n",
       "\t<tr><td>-0.4701603</td><td> 0.7069289666</td></tr>\n",
       "\t<tr><td>-0.4709982</td><td> 0.7077713797</td></tr>\n",
       "\t<tr><td>-0.4698508</td><td> 0.7066192549</td></tr>\n",
       "\t<tr><td>-0.4716396</td><td> 0.7084136753</td></tr>\n",
       "\t<tr><td>-0.4697793</td><td> 0.7065452630</td></tr>\n",
       "\t<tr><td>-0.4720027</td><td> 0.7087781814</td></tr>\n",
       "\t<tr><td>-0.4697054</td><td> 0.7064707050</td></tr>\n",
       "\t<tr><td>-0.4717505</td><td> 0.7085246750</td></tr>\n",
       "\t<tr><td>-0.4703681</td><td> 0.7071404649</td></tr>\n",
       "\t<tr><td>-0.4708769</td><td> 0.7076469786</td></tr>\n",
       "</tbody>\n",
       "</table>\n"
      ],
      "text/latex": [
       "A matrix: 60 × 2 of type dbl\n",
       "\\begin{tabular}{ll}\n",
       " PC1 & PC2\\\\\n",
       "\\hline\n",
       "\t -0.4723903 & -0.7071700216\\\\\n",
       "\t -0.4711889 & -0.7059692537\\\\\n",
       "\t -0.4716757 & -0.7064565539\\\\\n",
       "\t -0.4722778 & -0.7070555051\\\\\n",
       "\t -0.4720193 & -0.7067952841\\\\\n",
       "\t -0.4711998 & -0.7059821876\\\\\n",
       "\t -0.4719383 & -0.7067181204\\\\\n",
       "\t -0.4708994 & -0.7056797200\\\\\n",
       "\t -0.4727473 & -0.7075270562\\\\\n",
       "\t -0.4717633 & -0.7065435043\\\\\n",
       "\t -0.4719186 & -0.7067018772\\\\\n",
       "\t -0.4716499 & -0.7064276981\\\\\n",
       "\t -0.4730853 & -0.7078650847\\\\\n",
       "\t -0.4724694 & -0.7072488026\\\\\n",
       "\t -0.4726525 & -0.7074341602\\\\\n",
       "\t -0.4730668 & -0.7078424331\\\\\n",
       "\t -0.4719737 & -0.7067513197\\\\\n",
       "\t -0.4725834 & -0.7073628772\\\\\n",
       "\t -0.4717624 & -0.7065434380\\\\\n",
       "\t -0.4728437 & -0.7076167443\\\\\n",
       "\t  0.9428838 & -0.0006647731\\\\\n",
       "\t  0.9428834 & -0.0006646188\\\\\n",
       "\t  0.9428821 & -0.0006644411\\\\\n",
       "\t  0.9428831 & -0.0006628270\\\\\n",
       "\t  0.9428804 & -0.0006607218\\\\\n",
       "\t  0.9428829 & -0.0006639532\\\\\n",
       "\t  0.9428806 & -0.0006655933\\\\\n",
       "\t  0.9428820 & -0.0006650528\\\\\n",
       "\t  0.9428835 & -0.0006620988\\\\\n",
       "\t  0.9428821 & -0.0006657523\\\\\n",
       "\t  0.9428842 & -0.0006650227\\\\\n",
       "\t  0.9428834 & -0.0006642546\\\\\n",
       "\t  0.9428864 & -0.0006649977\\\\\n",
       "\t  0.9428841 & -0.0006640555\\\\\n",
       "\t  0.9428800 & -0.0006647456\\\\\n",
       "\t  0.9428839 & -0.0006624598\\\\\n",
       "\t  0.9428815 & -0.0006623391\\\\\n",
       "\t  0.9428823 & -0.0006640782\\\\\n",
       "\t  0.9428826 & -0.0006615517\\\\\n",
       "\t  0.9428822 & -0.0006634804\\\\\n",
       "\t -0.4711831 &  0.7079496407\\\\\n",
       "\t -0.4701455 &  0.7069167524\\\\\n",
       "\t -0.4696487 &  0.7064189662\\\\\n",
       "\t -0.4709294 &  0.7076995687\\\\\n",
       "\t -0.4711529 &  0.7079238609\\\\\n",
       "\t -0.4699701 &  0.7067423501\\\\\n",
       "\t -0.4715053 &  0.7082781568\\\\\n",
       "\t -0.4708480 &  0.7076189393\\\\\n",
       "\t -0.4714849 &  0.7082570659\\\\\n",
       "\t -0.4715491 &  0.7083236139\\\\\n",
       "\t -0.4701603 &  0.7069289666\\\\\n",
       "\t -0.4709982 &  0.7077713797\\\\\n",
       "\t -0.4698508 &  0.7066192549\\\\\n",
       "\t -0.4716396 &  0.7084136753\\\\\n",
       "\t -0.4697793 &  0.7065452630\\\\\n",
       "\t -0.4720027 &  0.7087781814\\\\\n",
       "\t -0.4697054 &  0.7064707050\\\\\n",
       "\t -0.4717505 &  0.7085246750\\\\\n",
       "\t -0.4703681 &  0.7071404649\\\\\n",
       "\t -0.4708769 &  0.7076469786\\\\\n",
       "\\end{tabular}\n"
      ],
      "text/markdown": [
       "\n",
       "A matrix: 60 × 2 of type dbl\n",
       "\n",
       "| PC1 | PC2 |\n",
       "|---|---|\n",
       "| -0.4723903 | -0.7071700216 |\n",
       "| -0.4711889 | -0.7059692537 |\n",
       "| -0.4716757 | -0.7064565539 |\n",
       "| -0.4722778 | -0.7070555051 |\n",
       "| -0.4720193 | -0.7067952841 |\n",
       "| -0.4711998 | -0.7059821876 |\n",
       "| -0.4719383 | -0.7067181204 |\n",
       "| -0.4708994 | -0.7056797200 |\n",
       "| -0.4727473 | -0.7075270562 |\n",
       "| -0.4717633 | -0.7065435043 |\n",
       "| -0.4719186 | -0.7067018772 |\n",
       "| -0.4716499 | -0.7064276981 |\n",
       "| -0.4730853 | -0.7078650847 |\n",
       "| -0.4724694 | -0.7072488026 |\n",
       "| -0.4726525 | -0.7074341602 |\n",
       "| -0.4730668 | -0.7078424331 |\n",
       "| -0.4719737 | -0.7067513197 |\n",
       "| -0.4725834 | -0.7073628772 |\n",
       "| -0.4717624 | -0.7065434380 |\n",
       "| -0.4728437 | -0.7076167443 |\n",
       "|  0.9428838 | -0.0006647731 |\n",
       "|  0.9428834 | -0.0006646188 |\n",
       "|  0.9428821 | -0.0006644411 |\n",
       "|  0.9428831 | -0.0006628270 |\n",
       "|  0.9428804 | -0.0006607218 |\n",
       "|  0.9428829 | -0.0006639532 |\n",
       "|  0.9428806 | -0.0006655933 |\n",
       "|  0.9428820 | -0.0006650528 |\n",
       "|  0.9428835 | -0.0006620988 |\n",
       "|  0.9428821 | -0.0006657523 |\n",
       "|  0.9428842 | -0.0006650227 |\n",
       "|  0.9428834 | -0.0006642546 |\n",
       "|  0.9428864 | -0.0006649977 |\n",
       "|  0.9428841 | -0.0006640555 |\n",
       "|  0.9428800 | -0.0006647456 |\n",
       "|  0.9428839 | -0.0006624598 |\n",
       "|  0.9428815 | -0.0006623391 |\n",
       "|  0.9428823 | -0.0006640782 |\n",
       "|  0.9428826 | -0.0006615517 |\n",
       "|  0.9428822 | -0.0006634804 |\n",
       "| -0.4711831 |  0.7079496407 |\n",
       "| -0.4701455 |  0.7069167524 |\n",
       "| -0.4696487 |  0.7064189662 |\n",
       "| -0.4709294 |  0.7076995687 |\n",
       "| -0.4711529 |  0.7079238609 |\n",
       "| -0.4699701 |  0.7067423501 |\n",
       "| -0.4715053 |  0.7082781568 |\n",
       "| -0.4708480 |  0.7076189393 |\n",
       "| -0.4714849 |  0.7082570659 |\n",
       "| -0.4715491 |  0.7083236139 |\n",
       "| -0.4701603 |  0.7069289666 |\n",
       "| -0.4709982 |  0.7077713797 |\n",
       "| -0.4698508 |  0.7066192549 |\n",
       "| -0.4716396 |  0.7084136753 |\n",
       "| -0.4697793 |  0.7065452630 |\n",
       "| -0.4720027 |  0.7087781814 |\n",
       "| -0.4697054 |  0.7064707050 |\n",
       "| -0.4717505 |  0.7085246750 |\n",
       "| -0.4703681 |  0.7071404649 |\n",
       "| -0.4708769 |  0.7076469786 |\n",
       "\n"
      ],
      "text/plain": [
       "      PC1        PC2          \n",
       " [1,] -0.4723903 -0.7071700216\n",
       " [2,] -0.4711889 -0.7059692537\n",
       " [3,] -0.4716757 -0.7064565539\n",
       " [4,] -0.4722778 -0.7070555051\n",
       " [5,] -0.4720193 -0.7067952841\n",
       " [6,] -0.4711998 -0.7059821876\n",
       " [7,] -0.4719383 -0.7067181204\n",
       " [8,] -0.4708994 -0.7056797200\n",
       " [9,] -0.4727473 -0.7075270562\n",
       "[10,] -0.4717633 -0.7065435043\n",
       "[11,] -0.4719186 -0.7067018772\n",
       "[12,] -0.4716499 -0.7064276981\n",
       "[13,] -0.4730853 -0.7078650847\n",
       "[14,] -0.4724694 -0.7072488026\n",
       "[15,] -0.4726525 -0.7074341602\n",
       "[16,] -0.4730668 -0.7078424331\n",
       "[17,] -0.4719737 -0.7067513197\n",
       "[18,] -0.4725834 -0.7073628772\n",
       "[19,] -0.4717624 -0.7065434380\n",
       "[20,] -0.4728437 -0.7076167443\n",
       "[21,]  0.9428838 -0.0006647731\n",
       "[22,]  0.9428834 -0.0006646188\n",
       "[23,]  0.9428821 -0.0006644411\n",
       "[24,]  0.9428831 -0.0006628270\n",
       "[25,]  0.9428804 -0.0006607218\n",
       "[26,]  0.9428829 -0.0006639532\n",
       "[27,]  0.9428806 -0.0006655933\n",
       "[28,]  0.9428820 -0.0006650528\n",
       "[29,]  0.9428835 -0.0006620988\n",
       "[30,]  0.9428821 -0.0006657523\n",
       "[31,]  0.9428842 -0.0006650227\n",
       "[32,]  0.9428834 -0.0006642546\n",
       "[33,]  0.9428864 -0.0006649977\n",
       "[34,]  0.9428841 -0.0006640555\n",
       "[35,]  0.9428800 -0.0006647456\n",
       "[36,]  0.9428839 -0.0006624598\n",
       "[37,]  0.9428815 -0.0006623391\n",
       "[38,]  0.9428823 -0.0006640782\n",
       "[39,]  0.9428826 -0.0006615517\n",
       "[40,]  0.9428822 -0.0006634804\n",
       "[41,] -0.4711831  0.7079496407\n",
       "[42,] -0.4701455  0.7069167524\n",
       "[43,] -0.4696487  0.7064189662\n",
       "[44,] -0.4709294  0.7076995687\n",
       "[45,] -0.4711529  0.7079238609\n",
       "[46,] -0.4699701  0.7067423501\n",
       "[47,] -0.4715053  0.7082781568\n",
       "[48,] -0.4708480  0.7076189393\n",
       "[49,] -0.4714849  0.7082570659\n",
       "[50,] -0.4715491  0.7083236139\n",
       "[51,] -0.4701603  0.7069289666\n",
       "[52,] -0.4709982  0.7077713797\n",
       "[53,] -0.4698508  0.7066192549\n",
       "[54,] -0.4716396  0.7084136753\n",
       "[55,] -0.4697793  0.7065452630\n",
       "[56,] -0.4720027  0.7087781814\n",
       "[57,] -0.4697054  0.7064707050\n",
       "[58,] -0.4717505  0.7085246750\n",
       "[59,] -0.4703681  0.7071404649\n",
       "[60,] -0.4708769  0.7076469786"
      ]
     },
     "metadata": {},
     "output_type": "display_data"
    }
   ],
   "source": [
    "pca$x[,1:2]"
   ]
  },
  {
   "cell_type": "code",
   "execution_count": 105,
   "id": "35f6e3cf",
   "metadata": {},
   "outputs": [
    {
     "data": {
      "image/png": "[encoded data removed]",
      "text/plain": [
       "plot without title"
      ]
     },
     "metadata": {
      "image/png": {
       "height": 420,
       "width": 420
      }
     },
     "output_type": "display_data"
    }
   ],
   "source": [
    "plot(pca$x[,1:2], col=c(2,1,5), pch=19) "
   ]
  },
  {
   "cell_type": "code",
   "execution_count": 106,
   "id": "86dfd015",
   "metadata": {},
   "outputs": [
    {
     "data": {
      "text/plain": [
       "   \n",
       "     1  2  3\n",
       "  1 20  0  0\n",
       "  2  0 20  0\n",
       "  3  0  0 20"
      ]
     },
     "metadata": {},
     "output_type": "display_data"
    }
   ],
   "source": [
    "kmean = kmeans(x, 3, nstart=20)\n",
    "table(kmean$cluster, c(rep(1,20), rep(2,20), rep(3,20)))"
   ]
  },
  {
   "cell_type": "code",
   "execution_count": 107,
   "id": "e4f3f5b7",
   "metadata": {},
   "outputs": [
    {
     "data": {
      "text/html": [
       "<style>\n",
       ".list-inline {list-style: none; margin:0; padding: 0}\n",
       ".list-inline>li {display: inline-block}\n",
       ".list-inline>li:not(:last-child)::after {content: \"\\00b7\"; padding: 0 .5ex}\n",
       "</style>\n",
       "<ol class=list-inline><li>1</li><li>1</li><li>1</li><li>1</li><li>1</li><li>1</li><li>1</li><li>1</li><li>1</li><li>1</li><li>1</li><li>1</li><li>1</li><li>1</li><li>1</li><li>1</li><li>1</li><li>1</li><li>1</li><li>1</li><li>2</li><li>2</li><li>2</li><li>2</li><li>2</li><li>2</li><li>2</li><li>2</li><li>2</li><li>2</li><li>2</li><li>2</li><li>2</li><li>2</li><li>2</li><li>2</li><li>2</li><li>2</li><li>2</li><li>2</li><li>1</li><li>1</li><li>1</li><li>1</li><li>1</li><li>1</li><li>1</li><li>1</li><li>1</li><li>1</li><li>1</li><li>1</li><li>1</li><li>1</li><li>1</li><li>1</li><li>1</li><li>1</li><li>1</li><li>1</li></ol>\n"
      ],
      "text/latex": [
       "\\begin{enumerate*}\n",
       "\\item 1\n",
       "\\item 1\n",
       "\\item 1\n",
       "\\item 1\n",
       "\\item 1\n",
       "\\item 1\n",
       "\\item 1\n",
       "\\item 1\n",
       "\\item 1\n",
       "\\item 1\n",
       "\\item 1\n",
       "\\item 1\n",
       "\\item 1\n",
       "\\item 1\n",
       "\\item 1\n",
       "\\item 1\n",
       "\\item 1\n",
       "\\item 1\n",
       "\\item 1\n",
       "\\item 1\n",
       "\\item 2\n",
       "\\item 2\n",
       "\\item 2\n",
       "\\item 2\n",
       "\\item 2\n",
       "\\item 2\n",
       "\\item 2\n",
       "\\item 2\n",
       "\\item 2\n",
       "\\item 2\n",
       "\\item 2\n",
       "\\item 2\n",
       "\\item 2\n",
       "\\item 2\n",
       "\\item 2\n",
       "\\item 2\n",
       "\\item 2\n",
       "\\item 2\n",
       "\\item 2\n",
       "\\item 2\n",
       "\\item 1\n",
       "\\item 1\n",
       "\\item 1\n",
       "\\item 1\n",
       "\\item 1\n",
       "\\item 1\n",
       "\\item 1\n",
       "\\item 1\n",
       "\\item 1\n",
       "\\item 1\n",
       "\\item 1\n",
       "\\item 1\n",
       "\\item 1\n",
       "\\item 1\n",
       "\\item 1\n",
       "\\item 1\n",
       "\\item 1\n",
       "\\item 1\n",
       "\\item 1\n",
       "\\item 1\n",
       "\\end{enumerate*}\n"
      ],
      "text/markdown": [
       "1. 1\n",
       "2. 1\n",
       "3. 1\n",
       "4. 1\n",
       "5. 1\n",
       "6. 1\n",
       "7. 1\n",
       "8. 1\n",
       "9. 1\n",
       "10. 1\n",
       "11. 1\n",
       "12. 1\n",
       "13. 1\n",
       "14. 1\n",
       "15. 1\n",
       "16. 1\n",
       "17. 1\n",
       "18. 1\n",
       "19. 1\n",
       "20. 1\n",
       "21. 2\n",
       "22. 2\n",
       "23. 2\n",
       "24. 2\n",
       "25. 2\n",
       "26. 2\n",
       "27. 2\n",
       "28. 2\n",
       "29. 2\n",
       "30. 2\n",
       "31. 2\n",
       "32. 2\n",
       "33. 2\n",
       "34. 2\n",
       "35. 2\n",
       "36. 2\n",
       "37. 2\n",
       "38. 2\n",
       "39. 2\n",
       "40. 2\n",
       "41. 1\n",
       "42. 1\n",
       "43. 1\n",
       "44. 1\n",
       "45. 1\n",
       "46. 1\n",
       "47. 1\n",
       "48. 1\n",
       "49. 1\n",
       "50. 1\n",
       "51. 1\n",
       "52. 1\n",
       "53. 1\n",
       "54. 1\n",
       "55. 1\n",
       "56. 1\n",
       "57. 1\n",
       "58. 1\n",
       "59. 1\n",
       "60. 1\n",
       "\n",
       "\n"
      ],
      "text/plain": [
       " [1] 1 1 1 1 1 1 1 1 1 1 1 1 1 1 1 1 1 1 1 1 2 2 2 2 2 2 2 2 2 2 2 2 2 2 2 2 2 2\n",
       "[39] 2 2 1 1 1 1 1 1 1 1 1 1 1 1 1 1 1 1 1 1 1 1"
      ]
     },
     "metadata": {},
     "output_type": "display_data"
    }
   ],
   "source": [
    "km2 = kmeans(x, 2, nstart=20)\n",
    "km2$cluster"
   ]
  },
  {
   "cell_type": "code",
   "execution_count": 108,
   "id": "f0208284",
   "metadata": {},
   "outputs": [
    {
     "data": {
      "text/html": [
       "<style>\n",
       ".list-inline {list-style: none; margin:0; padding: 0}\n",
       ".list-inline>li {display: inline-block}\n",
       ".list-inline>li:not(:last-child)::after {content: \"\\00b7\"; padding: 0 .5ex}\n",
       "</style>\n",
       "<ol class=list-inline><li>2</li><li>2</li><li>2</li><li>2</li><li>2</li><li>2</li><li>2</li><li>2</li><li>2</li><li>2</li><li>2</li><li>2</li><li>2</li><li>2</li><li>2</li><li>2</li><li>2</li><li>2</li><li>2</li><li>2</li><li>4</li><li>4</li><li>4</li><li>4</li><li>4</li><li>4</li><li>4</li><li>4</li><li>4</li><li>4</li><li>4</li><li>4</li><li>4</li><li>4</li><li>4</li><li>4</li><li>4</li><li>4</li><li>4</li><li>4</li><li>3</li><li>3</li><li>1</li><li>3</li><li>3</li><li>1</li><li>1</li><li>1</li><li>3</li><li>3</li><li>3</li><li>1</li><li>1</li><li>3</li><li>1</li><li>3</li><li>3</li><li>1</li><li>3</li><li>3</li></ol>\n"
      ],
      "text/latex": [
       "\\begin{enumerate*}\n",
       "\\item 2\n",
       "\\item 2\n",
       "\\item 2\n",
       "\\item 2\n",
       "\\item 2\n",
       "\\item 2\n",
       "\\item 2\n",
       "\\item 2\n",
       "\\item 2\n",
       "\\item 2\n",
       "\\item 2\n",
       "\\item 2\n",
       "\\item 2\n",
       "\\item 2\n",
       "\\item 2\n",
       "\\item 2\n",
       "\\item 2\n",
       "\\item 2\n",
       "\\item 2\n",
       "\\item 2\n",
       "\\item 4\n",
       "\\item 4\n",
       "\\item 4\n",
       "\\item 4\n",
       "\\item 4\n",
       "\\item 4\n",
       "\\item 4\n",
       "\\item 4\n",
       "\\item 4\n",
       "\\item 4\n",
       "\\item 4\n",
       "\\item 4\n",
       "\\item 4\n",
       "\\item 4\n",
       "\\item 4\n",
       "\\item 4\n",
       "\\item 4\n",
       "\\item 4\n",
       "\\item 4\n",
       "\\item 4\n",
       "\\item 3\n",
       "\\item 3\n",
       "\\item 1\n",
       "\\item 3\n",
       "\\item 3\n",
       "\\item 1\n",
       "\\item 1\n",
       "\\item 1\n",
       "\\item 3\n",
       "\\item 3\n",
       "\\item 3\n",
       "\\item 1\n",
       "\\item 1\n",
       "\\item 3\n",
       "\\item 1\n",
       "\\item 3\n",
       "\\item 3\n",
       "\\item 1\n",
       "\\item 3\n",
       "\\item 3\n",
       "\\end{enumerate*}\n"
      ],
      "text/markdown": [
       "1. 2\n",
       "2. 2\n",
       "3. 2\n",
       "4. 2\n",
       "5. 2\n",
       "6. 2\n",
       "7. 2\n",
       "8. 2\n",
       "9. 2\n",
       "10. 2\n",
       "11. 2\n",
       "12. 2\n",
       "13. 2\n",
       "14. 2\n",
       "15. 2\n",
       "16. 2\n",
       "17. 2\n",
       "18. 2\n",
       "19. 2\n",
       "20. 2\n",
       "21. 4\n",
       "22. 4\n",
       "23. 4\n",
       "24. 4\n",
       "25. 4\n",
       "26. 4\n",
       "27. 4\n",
       "28. 4\n",
       "29. 4\n",
       "30. 4\n",
       "31. 4\n",
       "32. 4\n",
       "33. 4\n",
       "34. 4\n",
       "35. 4\n",
       "36. 4\n",
       "37. 4\n",
       "38. 4\n",
       "39. 4\n",
       "40. 4\n",
       "41. 3\n",
       "42. 3\n",
       "43. 1\n",
       "44. 3\n",
       "45. 3\n",
       "46. 1\n",
       "47. 1\n",
       "48. 1\n",
       "49. 3\n",
       "50. 3\n",
       "51. 3\n",
       "52. 1\n",
       "53. 1\n",
       "54. 3\n",
       "55. 1\n",
       "56. 3\n",
       "57. 3\n",
       "58. 1\n",
       "59. 3\n",
       "60. 3\n",
       "\n",
       "\n"
      ],
      "text/plain": [
       " [1] 2 2 2 2 2 2 2 2 2 2 2 2 2 2 2 2 2 2 2 2 4 4 4 4 4 4 4 4 4 4 4 4 4 4 4 4 4 4\n",
       "[39] 4 4 3 3 1 3 3 1 1 1 3 3 3 1 1 3 1 3 3 1 3 3"
      ]
     },
     "metadata": {},
     "output_type": "display_data"
    }
   ],
   "source": [
    "km4 = kmeans(x, 4, nstart=20)\n",
    "km4$cluster"
   ]
  },
  {
   "cell_type": "code",
   "execution_count": 115,
   "id": "e2bb83f6",
   "metadata": {},
   "outputs": [
    {
     "data": {
      "text/plain": [
       "   \n",
       "     1  2  3\n",
       "  1 20  0  0\n",
       "  2  0 20  0\n",
       "  3  0  0 20"
      ]
     },
     "metadata": {},
     "output_type": "display_data"
    }
   ],
   "source": [
    "km3 = kmeans(pca$x[,1:2], 3, nstart=20)\n",
    "table(km3$cluster,c(rep(1,20), rep(2,20), rep(3,20)) )"
   ]
  },
  {
   "cell_type": "code",
   "execution_count": 111,
   "id": "bcb3e15e",
   "metadata": {},
   "outputs": [
    {
     "data": {
      "text/html": [
       "<style>\n",
       ".list-inline {list-style: none; margin:0; padding: 0}\n",
       ".list-inline>li {display: inline-block}\n",
       ".list-inline>li:not(:last-child)::after {content: \"\\00b7\"; padding: 0 .5ex}\n",
       "</style>\n",
       "<ol class=list-inline><li>1</li><li>1</li><li>1</li><li>1</li><li>1</li><li>1</li><li>1</li><li>1</li><li>1</li><li>1</li><li>1</li><li>1</li><li>1</li><li>1</li><li>1</li><li>1</li><li>1</li><li>1</li><li>1</li><li>1</li><li>2</li><li>2</li><li>2</li><li>2</li><li>2</li><li>2</li><li>2</li><li>2</li><li>2</li><li>2</li><li>2</li><li>2</li><li>2</li><li>2</li><li>2</li><li>2</li><li>2</li><li>2</li><li>2</li><li>2</li><li>3</li><li>3</li><li>3</li><li>3</li><li>3</li><li>3</li><li>3</li><li>3</li><li>3</li><li>3</li><li>3</li><li>3</li><li>3</li><li>3</li><li>3</li><li>3</li><li>3</li><li>3</li><li>3</li><li>3</li></ol>\n"
      ],
      "text/latex": [
       "\\begin{enumerate*}\n",
       "\\item 1\n",
       "\\item 1\n",
       "\\item 1\n",
       "\\item 1\n",
       "\\item 1\n",
       "\\item 1\n",
       "\\item 1\n",
       "\\item 1\n",
       "\\item 1\n",
       "\\item 1\n",
       "\\item 1\n",
       "\\item 1\n",
       "\\item 1\n",
       "\\item 1\n",
       "\\item 1\n",
       "\\item 1\n",
       "\\item 1\n",
       "\\item 1\n",
       "\\item 1\n",
       "\\item 1\n",
       "\\item 2\n",
       "\\item 2\n",
       "\\item 2\n",
       "\\item 2\n",
       "\\item 2\n",
       "\\item 2\n",
       "\\item 2\n",
       "\\item 2\n",
       "\\item 2\n",
       "\\item 2\n",
       "\\item 2\n",
       "\\item 2\n",
       "\\item 2\n",
       "\\item 2\n",
       "\\item 2\n",
       "\\item 2\n",
       "\\item 2\n",
       "\\item 2\n",
       "\\item 2\n",
       "\\item 2\n",
       "\\item 3\n",
       "\\item 3\n",
       "\\item 3\n",
       "\\item 3\n",
       "\\item 3\n",
       "\\item 3\n",
       "\\item 3\n",
       "\\item 3\n",
       "\\item 3\n",
       "\\item 3\n",
       "\\item 3\n",
       "\\item 3\n",
       "\\item 3\n",
       "\\item 3\n",
       "\\item 3\n",
       "\\item 3\n",
       "\\item 3\n",
       "\\item 3\n",
       "\\item 3\n",
       "\\item 3\n",
       "\\end{enumerate*}\n"
      ],
      "text/markdown": [
       "1. 1\n",
       "2. 1\n",
       "3. 1\n",
       "4. 1\n",
       "5. 1\n",
       "6. 1\n",
       "7. 1\n",
       "8. 1\n",
       "9. 1\n",
       "10. 1\n",
       "11. 1\n",
       "12. 1\n",
       "13. 1\n",
       "14. 1\n",
       "15. 1\n",
       "16. 1\n",
       "17. 1\n",
       "18. 1\n",
       "19. 1\n",
       "20. 1\n",
       "21. 2\n",
       "22. 2\n",
       "23. 2\n",
       "24. 2\n",
       "25. 2\n",
       "26. 2\n",
       "27. 2\n",
       "28. 2\n",
       "29. 2\n",
       "30. 2\n",
       "31. 2\n",
       "32. 2\n",
       "33. 2\n",
       "34. 2\n",
       "35. 2\n",
       "36. 2\n",
       "37. 2\n",
       "38. 2\n",
       "39. 2\n",
       "40. 2\n",
       "41. 3\n",
       "42. 3\n",
       "43. 3\n",
       "44. 3\n",
       "45. 3\n",
       "46. 3\n",
       "47. 3\n",
       "48. 3\n",
       "49. 3\n",
       "50. 3\n",
       "51. 3\n",
       "52. 3\n",
       "53. 3\n",
       "54. 3\n",
       "55. 3\n",
       "56. 3\n",
       "57. 3\n",
       "58. 3\n",
       "59. 3\n",
       "60. 3\n",
       "\n",
       "\n"
      ],
      "text/plain": [
       " [1] 1 1 1 1 1 1 1 1 1 1 1 1 1 1 1 1 1 1 1 1 2 2 2 2 2 2 2 2 2 2 2 2 2 2 2 2 2 2\n",
       "[39] 2 2 3 3 3 3 3 3 3 3 3 3 3 3 3 3 3 3 3 3 3 3"
      ]
     },
     "metadata": {},
     "output_type": "display_data"
    }
   ],
   "source": [
    "c(rep(1,20), rep(2,20), rep(3,20))"
   ]
  },
  {
   "cell_type": "code",
   "execution_count": 116,
   "id": "5a2d562a",
   "metadata": {},
   "outputs": [
    {
     "data": {
      "text/html": [
       "<style>\n",
       ".list-inline {list-style: none; margin:0; padding: 0}\n",
       ".list-inline>li {display: inline-block}\n",
       ".list-inline>li:not(:last-child)::after {content: \"\\00b7\"; padding: 0 .5ex}\n",
       "</style>\n",
       "<ol class=list-inline><li>3</li><li>3</li><li>1</li><li>3</li><li>3</li><li>3</li><li>2</li><li>3</li><li>3</li><li>2</li><li>3</li><li>2</li><li>3</li><li>3</li><li>3</li><li>3</li><li>3</li><li>3</li><li>3</li><li>2</li><li>1</li><li>1</li><li>1</li><li>1</li><li>2</li><li>1</li><li>3</li><li>1</li><li>1</li><li>1</li><li>1</li><li>1</li><li>1</li><li>1</li><li>2</li><li>1</li><li>2</li><li>1</li><li>1</li><li>1</li><li>3</li><li>2</li><li>3</li><li>2</li><li>1</li><li>2</li><li>2</li><li>3</li><li>3</li><li>2</li><li>1</li><li>2</li><li>3</li><li>2</li><li>3</li><li>1</li><li>3</li><li>2</li><li>2</li><li>2</li></ol>\n"
      ],
      "text/latex": [
       "\\begin{enumerate*}\n",
       "\\item 3\n",
       "\\item 3\n",
       "\\item 1\n",
       "\\item 3\n",
       "\\item 3\n",
       "\\item 3\n",
       "\\item 2\n",
       "\\item 3\n",
       "\\item 3\n",
       "\\item 2\n",
       "\\item 3\n",
       "\\item 2\n",
       "\\item 3\n",
       "\\item 3\n",
       "\\item 3\n",
       "\\item 3\n",
       "\\item 3\n",
       "\\item 3\n",
       "\\item 3\n",
       "\\item 2\n",
       "\\item 1\n",
       "\\item 1\n",
       "\\item 1\n",
       "\\item 1\n",
       "\\item 2\n",
       "\\item 1\n",
       "\\item 3\n",
       "\\item 1\n",
       "\\item 1\n",
       "\\item 1\n",
       "\\item 1\n",
       "\\item 1\n",
       "\\item 1\n",
       "\\item 1\n",
       "\\item 2\n",
       "\\item 1\n",
       "\\item 2\n",
       "\\item 1\n",
       "\\item 1\n",
       "\\item 1\n",
       "\\item 3\n",
       "\\item 2\n",
       "\\item 3\n",
       "\\item 2\n",
       "\\item 1\n",
       "\\item 2\n",
       "\\item 2\n",
       "\\item 3\n",
       "\\item 3\n",
       "\\item 2\n",
       "\\item 1\n",
       "\\item 2\n",
       "\\item 3\n",
       "\\item 2\n",
       "\\item 3\n",
       "\\item 1\n",
       "\\item 3\n",
       "\\item 2\n",
       "\\item 2\n",
       "\\item 2\n",
       "\\end{enumerate*}\n"
      ],
      "text/markdown": [
       "1. 3\n",
       "2. 3\n",
       "3. 1\n",
       "4. 3\n",
       "5. 3\n",
       "6. 3\n",
       "7. 2\n",
       "8. 3\n",
       "9. 3\n",
       "10. 2\n",
       "11. 3\n",
       "12. 2\n",
       "13. 3\n",
       "14. 3\n",
       "15. 3\n",
       "16. 3\n",
       "17. 3\n",
       "18. 3\n",
       "19. 3\n",
       "20. 2\n",
       "21. 1\n",
       "22. 1\n",
       "23. 1\n",
       "24. 1\n",
       "25. 2\n",
       "26. 1\n",
       "27. 3\n",
       "28. 1\n",
       "29. 1\n",
       "30. 1\n",
       "31. 1\n",
       "32. 1\n",
       "33. 1\n",
       "34. 1\n",
       "35. 2\n",
       "36. 1\n",
       "37. 2\n",
       "38. 1\n",
       "39. 1\n",
       "40. 1\n",
       "41. 3\n",
       "42. 2\n",
       "43. 3\n",
       "44. 2\n",
       "45. 1\n",
       "46. 2\n",
       "47. 2\n",
       "48. 3\n",
       "49. 3\n",
       "50. 2\n",
       "51. 1\n",
       "52. 2\n",
       "53. 3\n",
       "54. 2\n",
       "55. 3\n",
       "56. 1\n",
       "57. 3\n",
       "58. 2\n",
       "59. 2\n",
       "60. 2\n",
       "\n",
       "\n"
      ],
      "text/plain": [
       " [1] 3 3 1 3 3 3 2 3 3 2 3 2 3 3 3 3 3 3 3 2 1 1 1 1 2 1 3 1 1 1 1 1 1 1 2 1 2 1\n",
       "[39] 1 1 3 2 3 2 1 2 2 3 3 2 1 2 3 2 3 1 3 2 2 2"
      ]
     },
     "metadata": {},
     "output_type": "display_data"
    }
   ],
   "source": [
    "km_scaled = kmeans(scale(x), 3, nstart=20)\n",
    "km_scaled$cluster"
   ]
  },
  {
   "cell_type": "markdown",
   "id": "41204df0",
   "metadata": {},
   "source": [
    "We got worse results compared to those obtained in (b)"
   ]
  }
 ],
 "metadata": {
  "kernelspec": {
   "display_name": "R",
   "language": "R",
   "name": "ir"
  },
  "language_info": {
   "codemirror_mode": "r",
   "file_extension": ".r",
   "mimetype": "text/x-r-source",
   "name": "R",
   "pygments_lexer": "r",
   "version": "4.0.5"
  }
 },
 "nbformat": 4,
 "nbformat_minor": 5
}
