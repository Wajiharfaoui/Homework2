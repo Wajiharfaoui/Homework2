{
 "cells": [
  {
   "cell_type": "markdown",
   "id": "1a6f975f",
   "metadata": {},
   "source": [
    "# Homework 3 \n",
    "## Wajih Arfaoui"
   ]
  },
  {
   "cell_type": "markdown",
   "id": "e2755e5d",
   "metadata": {},
   "source": [
    "### Exercise 3 "
   ]
  },
  {
   "cell_type": "markdown",
   "id": "f3d32afd",
   "metadata": {},
   "source": [
    "The **k-fold cross validation** is splitting the dataset into k similar subsets, so you can use **k-1** subsets to train the model and **1** subset to do the validation. You repeat this process **k** times while choosing a different subset each time. Finally you estimate the test error by averaging the **k** MSE estimates."
   ]
  },
  {
   "cell_type": "markdown",
   "id": "3e67a980",
   "metadata": {},
   "source": [
    "The validation set approach is easier and simpler than the cross validation approach, while it tends to overestimate the test error rate due to the observations that are included in the training and validation sets /n \n",
    "\n",
    "LOOCV is considered as a special cas of k-fold cross-validation where k = the number of observations, so basically it is more complex when it comes to computation since it needs to fit the model n times."
   ]
  },
  {
   "cell_type": "markdown",
   "id": "7a6e52e8",
   "metadata": {},
   "source": [
    "### Exercise 8"
   ]
  },
  {
   "cell_type": "code",
   "execution_count": 3,
   "id": "249f905f",
   "metadata": {},
   "outputs": [],
   "source": [
    "library(boot)\n",
    "set.seed(1)\n",
    "x = rnorm(100)\n",
    "y = x - 2 * x^2 + rnorm(100)"
   ]
  },
  {
   "cell_type": "markdown",
   "id": "0aa42cb0",
   "metadata": {},
   "source": [
    "n = 100, p = 2.\n",
    "\n",
    "$Y=X−2X^2+ϵ.$"
   ]
  },
  {
   "cell_type": "code",
   "execution_count": 4,
   "id": "6393e2be",
   "metadata": {},
   "outputs": [
    {
     "data": {
      "image/png": "[encoded data removed]",
      "text/plain": [
       "plot without title"
      ]
     },
     "metadata": {
      "image/png": {
       "height": 420,
       "width": 420
      }
     },
     "output_type": "display_data"
    }
   ],
   "source": [
    "plot(x,y)"
   ]
  },
  {
   "cell_type": "markdown",
   "id": "911e3d38",
   "metadata": {},
   "source": [
    "The range of **x** is from -2 to 2 while the range of **y** is from -10 to 2"
   ]
  },
  {
   "cell_type": "code",
   "execution_count": 7,
   "id": "9f9ed62f",
   "metadata": {},
   "outputs": [
    {
     "data": {
      "text/html": [
       "<style>\n",
       ".list-inline {list-style: none; margin:0; padding: 0}\n",
       ".list-inline>li {display: inline-block}\n",
       ".list-inline>li:not(:last-child)::after {content: \"\\00b7\"; padding: 0 .5ex}\n",
       "</style>\n",
       "<ol class=list-inline><li>7.28816160667281</li><li>7.28474411546929</li></ol>\n"
      ],
      "text/latex": [
       "\\begin{enumerate*}\n",
       "\\item 7.28816160667281\n",
       "\\item 7.28474411546929\n",
       "\\end{enumerate*}\n"
      ],
      "text/markdown": [
       "1. 7.28816160667281\n",
       "2. 7.28474411546929\n",
       "\n",
       "\n"
      ],
      "text/plain": [
       "[1] 7.288162 7.284744"
      ]
     },
     "metadata": {},
     "output_type": "display_data"
    }
   ],
   "source": [
    "data= data.frame(x,y)\n",
    "set.seed(1)\n",
    "glm.fit = glm(y ~ x)\n",
    "cv.glm(data, glm.fit)$delta"
   ]
  },
  {
   "cell_type": "code",
   "execution_count": 8,
   "id": "fbe26867",
   "metadata": {},
   "outputs": [
    {
     "data": {
      "text/html": [
       "<style>\n",
       ".list-inline {list-style: none; margin:0; padding: 0}\n",
       ".list-inline>li {display: inline-block}\n",
       ".list-inline>li:not(:last-child)::after {content: \"\\00b7\"; padding: 0 .5ex}\n",
       "</style>\n",
       "<ol class=list-inline><li>0.937423637615552</li><li>0.937178917181123</li></ol>\n"
      ],
      "text/latex": [
       "\\begin{enumerate*}\n",
       "\\item 0.937423637615552\n",
       "\\item 0.937178917181123\n",
       "\\end{enumerate*}\n"
      ],
      "text/markdown": [
       "1. 0.937423637615552\n",
       "2. 0.937178917181123\n",
       "\n",
       "\n"
      ],
      "text/plain": [
       "[1] 0.9374236 0.9371789"
      ]
     },
     "metadata": {},
     "output_type": "display_data"
    }
   ],
   "source": [
    "glm.fit = glm(y ~ poly(x, 2))\n",
    "cv.glm(data, glm.fit)$delta"
   ]
  },
  {
   "cell_type": "code",
   "execution_count": 9,
   "id": "12b00b88",
   "metadata": {},
   "outputs": [
    {
     "data": {
      "text/html": [
       "<style>\n",
       ".list-inline {list-style: none; margin:0; padding: 0}\n",
       ".list-inline>li {display: inline-block}\n",
       ".list-inline>li:not(:last-child)::after {content: \"\\00b7\"; padding: 0 .5ex}\n",
       "</style>\n",
       "<ol class=list-inline><li>0.956621830108939</li><li>0.956253813731321</li></ol>\n"
      ],
      "text/latex": [
       "\\begin{enumerate*}\n",
       "\\item 0.956621830108939\n",
       "\\item 0.956253813731321\n",
       "\\end{enumerate*}\n"
      ],
      "text/markdown": [
       "1. 0.956621830108939\n",
       "2. 0.956253813731321\n",
       "\n",
       "\n"
      ],
      "text/plain": [
       "[1] 0.9566218 0.9562538"
      ]
     },
     "metadata": {},
     "output_type": "display_data"
    }
   ],
   "source": [
    "glm.fit = glm(y ~ poly(x, 3))\n",
    "cv.glm(data, glm.fit)$delta"
   ]
  },
  {
   "cell_type": "code",
   "execution_count": 10,
   "id": "2dbb3f1b",
   "metadata": {},
   "outputs": [
    {
     "data": {
      "text/html": [
       "<style>\n",
       ".list-inline {list-style: none; margin:0; padding: 0}\n",
       ".list-inline>li {display: inline-block}\n",
       ".list-inline>li:not(:last-child)::after {content: \"\\00b7\"; padding: 0 .5ex}\n",
       "</style>\n",
       "<ol class=list-inline><li>0.953904892744804</li><li>0.953445283156601</li></ol>\n"
      ],
      "text/latex": [
       "\\begin{enumerate*}\n",
       "\\item 0.953904892744804\n",
       "\\item 0.953445283156601\n",
       "\\end{enumerate*}\n"
      ],
      "text/markdown": [
       "1. 0.953904892744804\n",
       "2. 0.953445283156601\n",
       "\n",
       "\n"
      ],
      "text/plain": [
       "[1] 0.9539049 0.9534453"
      ]
     },
     "metadata": {},
     "output_type": "display_data"
    }
   ],
   "source": [
    "glm.fit = glm(y ~ poly(x, 4))\n",
    "cv.glm(data, glm.fit)$delta"
   ]
  },
  {
   "cell_type": "markdown",
   "id": "94c1bc2a",
   "metadata": {},
   "source": [
    "The quadratic polynomial has the lowest LOOCV test error rate because it represents the original form of **y** "
   ]
  },
  {
   "cell_type": "code",
   "execution_count": 12,
   "id": "c6e177f2",
   "metadata": {},
   "outputs": [
    {
     "data": {
      "text/plain": [
       "\n",
       "Call:\n",
       "glm(formula = y ~ poly(x, 4))\n",
       "\n",
       "Deviance Residuals: \n",
       "    Min       1Q   Median       3Q      Max  \n",
       "-2.0550  -0.6212  -0.1567   0.5952   2.2267  \n",
       "\n",
       "Coefficients:\n",
       "             Estimate Std. Error t value Pr(>|t|)    \n",
       "(Intercept)  -1.55002    0.09591 -16.162  < 2e-16 ***\n",
       "poly(x, 4)1   6.18883    0.95905   6.453 4.59e-09 ***\n",
       "poly(x, 4)2 -23.94830    0.95905 -24.971  < 2e-16 ***\n",
       "poly(x, 4)3   0.26411    0.95905   0.275    0.784    \n",
       "poly(x, 4)4   1.25710    0.95905   1.311    0.193    \n",
       "---\n",
       "Signif. codes:  0 '***' 0.001 '**' 0.01 '*' 0.05 '.' 0.1 ' ' 1\n",
       "\n",
       "(Dispersion parameter for gaussian family taken to be 0.9197797)\n",
       "\n",
       "    Null deviance: 700.852  on 99  degrees of freedom\n",
       "Residual deviance:  87.379  on 95  degrees of freedom\n",
       "AIC: 282.3\n",
       "\n",
       "Number of Fisher Scoring iterations: 2\n"
      ]
     },
     "metadata": {},
     "output_type": "display_data"
    }
   ],
   "source": [
    "summary(glm.fit)"
   ]
  },
  {
   "cell_type": "markdown",
   "id": "b25f7409",
   "metadata": {},
   "source": [
    "There is significance for linear and quadratic forms what agree with the LOOCV conclusion"
   ]
  },
  {
   "cell_type": "markdown",
   "id": "2f34cf32",
   "metadata": {},
   "source": [
    "### Exercise 1"
   ]
  },
  {
   "cell_type": "markdown",
   "id": "171d3aa7",
   "metadata": {},
   "source": [
    "Best subset selection has the smallest training RSS because the two other methods depends on the first predictor they picked"
   ]
  },
  {
   "cell_type": "markdown",
   "id": "69ac6c87",
   "metadata": {},
   "source": [
    "It depends, but generally the best subset may have a better test RSS because it considers more models "
   ]
  },
  {
   "cell_type": "markdown",
   "id": "2fc67cc7",
   "metadata": {},
   "source": [
    "TRUE, TRUE, FALSE, FALSE, FALSE"
   ]
  },
  {
   "cell_type": "markdown",
   "id": "5cdd9231",
   "metadata": {},
   "source": [
    "### Exercise 9"
   ]
  },
  {
   "cell_type": "code",
   "execution_count": 25,
   "id": "a527b207",
   "metadata": {},
   "outputs": [],
   "source": [
    "library(ISLR)\n",
    "train.size = (dim(College)[1] / 3)*2\n",
    "train = sample(1:dim(College)[1], train.size)\n",
    "College.train = College[train, ]\n",
    "College.test = College[-train, ]"
   ]
  },
  {
   "cell_type": "code",
   "execution_count": 29,
   "id": "b49191d6",
   "metadata": {},
   "outputs": [],
   "source": [
    "lm.fit = lm(Apps~., data=College.train)\n",
    "lm.pred = predict(lm.fit, College.test)"
   ]
  },
  {
   "cell_type": "code",
   "execution_count": 30,
   "id": "3d05bb44",
   "metadata": {},
   "outputs": [
    {
     "name": "stderr",
     "output_type": "stream",
     "text": [
      "Loading required package: Matrix\n",
      "\n",
      "Loaded glmnet 4.1-2\n",
      "\n"
     ]
    }
   ],
   "source": [
    "library(glmnet)"
   ]
  },
  {
   "cell_type": "code",
   "execution_count": 38,
   "id": "e4a14d10",
   "metadata": {},
   "outputs": [
    {
     "data": {
      "text/html": [
       "1012824.32136362"
      ],
      "text/latex": [
       "1012824.32136362"
      ],
      "text/markdown": [
       "1012824.32136362"
      ],
      "text/plain": [
       "[1] 1012824"
      ]
     },
     "metadata": {},
     "output_type": "display_data"
    }
   ],
   "source": [
    "grid = 10 ^ seq(10, -2, length=100)\n",
    "x = model.matrix(Apps~., data=College.train)[,-1]\n",
    "x_test = model.matrix(Apps~., data=College.test)[,-1]\n",
    "y_test =College.test[, \"Apps\"]\n",
    "y =College.train[, \"Apps\"]\n",
    "ridge.mod = glmnet(x,y, alpha=0,lambda=grid,thresh=1e-12)\n",
    "ridge.pred = predict(ridge.mod,s=19,newx=x_test)\n",
    "mean((ridge.pred-y_test)^2)"
   ]
  },
  {
   "cell_type": "code",
   "execution_count": 40,
   "id": "8b8dbe18",
   "metadata": {},
   "outputs": [
    {
     "data": {
      "text/html": [
       "1001458.49799326"
      ],
      "text/latex": [
       "1001458.49799326"
      ],
      "text/markdown": [
       "1001458.49799326"
      ],
      "text/plain": [
       "[1] 1001458"
      ]
     },
     "metadata": {},
     "output_type": "display_data"
    }
   ],
   "source": [
    "mod.lasso = glmnet(x,y, alpha=1,lambda=grid,thresh=1e-12)\n",
    "lasso.pred = predict(mod.lasso, newx=x_test, s=21)\n",
    "mean((lasso.pred-y_test)^2)"
   ]
  },
  {
   "cell_type": "code",
   "execution_count": 42,
   "id": "9630d63e",
   "metadata": {},
   "outputs": [
    {
     "name": "stdout",
     "output_type": "stream",
     "text": [
      "package 'pls' successfully unpacked and MD5 sums checked\n",
      "\n",
      "The downloaded binary packages are in\n",
      "\tC:\\Users\\warfaoui\\AppData\\Local\\Temp\\Rtmpi28SGO\\downloaded_packages\n"
     ]
    },
    {
     "name": "stderr",
     "output_type": "stream",
     "text": [
      "\n",
      "Attaching package: 'pls'\n",
      "\n",
      "\n",
      "The following object is masked from 'package:stats':\n",
      "\n",
      "    loadings\n",
      "\n",
      "\n"
     ]
    },
    {
     "data": {
      "image/png": "[encoded data removed]",
      "text/plain": [
       "Plot with title \"Apps\""
      ]
     },
     "metadata": {
      "image/png": {
       "height": 420,
       "width": 420
      }
     },
     "output_type": "display_data"
    }
   ],
   "source": [
    "install.packages(\"pls\")\n",
    "library(pls)\n",
    "pcr.fit = pcr(Apps~., data=College.train, scale=T, validation=\"CV\")\n",
    "validationplot(pcr.fit, val.type=\"MSEP\")"
   ]
  },
  {
   "cell_type": "code",
   "execution_count": 49,
   "id": "9729bb4d",
   "metadata": {
    "scrolled": true
   },
   "outputs": [
    {
     "data": {
      "text/html": [
       "1388760.55634766"
      ],
      "text/latex": [
       "1388760.55634766"
      ],
      "text/markdown": [
       "1388760.55634766"
      ],
      "text/plain": [
       "[1] 1388761"
      ]
     },
     "metadata": {},
     "output_type": "display_data"
    }
   ],
   "source": [
    "pcr.pred = predict(pcr.fit, College.test, ncomp=9)\n",
    "mean((y_test - pcr.pred)^2)"
   ]
  },
  {
   "cell_type": "markdown",
   "id": "797b832f",
   "metadata": {},
   "source": [
    "### Exercise 9"
   ]
  },
  {
   "cell_type": "code",
   "execution_count": 50,
   "id": "f11cb96c",
   "metadata": {},
   "outputs": [
    {
     "data": {
      "text/plain": [
       "\n",
       "Call:\n",
       "lm(formula = nox ~ poly(dis, 3), data = Boston)\n",
       "\n",
       "Residuals:\n",
       "      Min        1Q    Median        3Q       Max \n",
       "-0.121130 -0.040619 -0.009738  0.023385  0.194904 \n",
       "\n",
       "Coefficients:\n",
       "               Estimate Std. Error t value Pr(>|t|)    \n",
       "(Intercept)    0.554695   0.002759 201.021  < 2e-16 ***\n",
       "poly(dis, 3)1 -2.003096   0.062071 -32.271  < 2e-16 ***\n",
       "poly(dis, 3)2  0.856330   0.062071  13.796  < 2e-16 ***\n",
       "poly(dis, 3)3 -0.318049   0.062071  -5.124 4.27e-07 ***\n",
       "---\n",
       "Signif. codes:  0 '***' 0.001 '**' 0.01 '*' 0.05 '.' 0.1 ' ' 1\n",
       "\n",
       "Residual standard error: 0.06207 on 502 degrees of freedom\n",
       "Multiple R-squared:  0.7148,\tAdjusted R-squared:  0.7131 \n",
       "F-statistic: 419.3 on 3 and 502 DF,  p-value: < 2.2e-16\n"
      ]
     },
     "metadata": {},
     "output_type": "display_data"
    }
   ],
   "source": [
    "library(MASS)\n",
    "attach(Boston)\n",
    "lm.fit = lm(nox ~ poly(dis, 3), data = Boston)\n",
    "summary(lm.fit)"
   ]
  },
  {
   "cell_type": "code",
   "execution_count": 51,
   "id": "a6590086",
   "metadata": {},
   "outputs": [
    {
     "data": {
      "image/png": "[encoded data removed]",
      "text/plain": [
       "plot without title"
      ]
     },
     "metadata": {
      "image/png": {
       "height": 420,
       "width": 420
      }
     },
     "output_type": "display_data"
    }
   ],
   "source": [
    "dis.grid = seq(from = range(dis)[1], to = range(dis)[2], by = 0.1)\n",
    "lm.pred = predict(lm.fit, list(dis = dis.grid))\n",
    "plot(nox ~ dis, data = Boston, col = \"grey\")\n",
    "lines(dis.grid, lm.pred, col = \"blue\", lwd = 2)"
   ]
  },
  {
   "cell_type": "code",
   "execution_count": 54,
   "id": "70bf7f72",
   "metadata": {},
   "outputs": [
    {
     "data": {
      "text/html": [
       "<style>\n",
       ".list-inline {list-style: none; margin:0; padding: 0}\n",
       ".list-inline>li {display: inline-block}\n",
       ".list-inline>li:not(:last-child)::after {content: \"\\00b7\"; padding: 0 .5ex}\n",
       "</style>\n",
       "<ol class=list-inline><li>'2.76856285896928'</li><li>'2.03526186893526'</li><li>'1.93410670717907'</li><li>'1.93298132729859'</li><li>'1.9152899610843'</li><li>'1.87825729850816'</li><li>'1.84948361458298'</li><li>'1.83562968906769'</li><li>'1.83333080449159'</li><li>'1.83217112393134'</li></ol>\n"
      ],
      "text/latex": [
       "\\begin{enumerate*}\n",
       "\\item '2.76856285896928'\n",
       "\\item '2.03526186893526'\n",
       "\\item '1.93410670717907'\n",
       "\\item '1.93298132729859'\n",
       "\\item '1.9152899610843'\n",
       "\\item '1.87825729850816'\n",
       "\\item '1.84948361458298'\n",
       "\\item '1.83562968906769'\n",
       "\\item '1.83333080449159'\n",
       "\\item '1.83217112393134'\n",
       "\\end{enumerate*}\n"
      ],
      "text/markdown": [
       "1. '2.76856285896928'\n",
       "2. '2.03526186893526'\n",
       "3. '1.93410670717907'\n",
       "4. '1.93298132729859'\n",
       "5. '1.9152899610843'\n",
       "6. '1.87825729850816'\n",
       "7. '1.84948361458298'\n",
       "8. '1.83562968906769'\n",
       "9. '1.83333080449159'\n",
       "10. '1.83217112393134'\n",
       "\n",
       "\n"
      ],
      "text/plain": [
       " [1] \"2.76856285896928\" \"2.03526186893526\" \"1.93410670717907\" \"1.93298132729859\"\n",
       " [5] \"1.9152899610843\"  \"1.87825729850816\" \"1.84948361458298\" \"1.83562968906769\"\n",
       " [9] \"1.83333080449159\" \"1.83217112393134\""
      ]
     },
     "metadata": {},
     "output_type": "display_data"
    }
   ],
   "source": [
    "rss = rep('null', 10)\n",
    "for (i in 1:10) {\n",
    "    lm.fit = lm(nox ~ poly(dis, i), data = Boston)\n",
    "    rss[i] = sum(lm.fit$residuals^2)\n",
    "}\n",
    "rss"
   ]
  },
  {
   "cell_type": "code",
   "execution_count": 60,
   "id": "5bdf9780",
   "metadata": {},
   "outputs": [
    {
     "data": {
      "text/html": [
       "<style>\n",
       ".list-inline {list-style: none; margin:0; padding: 0}\n",
       ".list-inline>li {display: inline-block}\n",
       ".list-inline>li:not(:last-child)::after {content: \"\\00b7\"; padding: 0 .5ex}\n",
       "</style>\n",
       "<ol class=list-inline><li>'0.00553468759504332'</li><li>'0.00406869098009107'</li><li>'0.00388279495112766'</li><li>'0.00389053366208929'</li><li>'0.00411334437958888'</li><li>'0.00563295040095729'</li><li>'0.0139865295858569'</li><li>'0.00859967919262599'</li><li>'0.0124048296600035'</li><li>'0.00387924353228933'</li></ol>\n"
      ],
      "text/latex": [
       "\\begin{enumerate*}\n",
       "\\item '0.00553468759504332'\n",
       "\\item '0.00406869098009107'\n",
       "\\item '0.00388279495112766'\n",
       "\\item '0.00389053366208929'\n",
       "\\item '0.00411334437958888'\n",
       "\\item '0.00563295040095729'\n",
       "\\item '0.0139865295858569'\n",
       "\\item '0.00859967919262599'\n",
       "\\item '0.0124048296600035'\n",
       "\\item '0.00387924353228933'\n",
       "\\end{enumerate*}\n"
      ],
      "text/markdown": [
       "1. '0.00553468759504332'\n",
       "2. '0.00406869098009107'\n",
       "3. '0.00388279495112766'\n",
       "4. '0.00389053366208929'\n",
       "5. '0.00411334437958888'\n",
       "6. '0.00563295040095729'\n",
       "7. '0.0139865295858569'\n",
       "8. '0.00859967919262599'\n",
       "9. '0.0124048296600035'\n",
       "10. '0.00387924353228933'\n",
       "\n",
       "\n"
      ],
      "text/plain": [
       " [1] \"0.00553468759504332\" \"0.00406869098009107\" \"0.00388279495112766\"\n",
       " [4] \"0.00389053366208929\" \"0.00411334437958888\" \"0.00563295040095729\"\n",
       " [7] \"0.0139865295858569\"  \"0.00859967919262599\" \"0.0124048296600035\" \n",
       "[10] \"0.00387924353228933\""
      ]
     },
     "metadata": {},
     "output_type": "display_data"
    }
   ],
   "source": [
    "deltas = rep('null', 10)\n",
    "for (i in 1:10) {\n",
    "    glm.fit = glm(nox ~ poly(dis, i), data = Boston)\n",
    "    deltas[i] = cv.glm(Boston, glm.fit, K = 10)$delta[2]\n",
    "}\n",
    "deltas"
   ]
  },
  {
   "cell_type": "code",
   "execution_count": 64,
   "id": "15c290bf",
   "metadata": {},
   "outputs": [
    {
     "data": {
      "image/png": "[encoded data removed]",
      "text/plain": [
       "plot without title"
      ]
     },
     "metadata": {
      "image/png": {
       "height": 420,
       "width": 420
      }
     },
     "output_type": "display_data"
    }
   ],
   "source": [
    "plot(1:10, deltas, xlab = \"Poly degree\",type = \"l\", lwd = 2)"
   ]
  },
  {
   "cell_type": "markdown",
   "id": "1983bf80",
   "metadata": {},
   "source": [
    "### Exercise 10"
   ]
  },
  {
   "cell_type": "code",
   "execution_count": 74,
   "id": "e3c0a34d",
   "metadata": {},
   "outputs": [
    {
     "data": {
      "text/plain": [
       "Subset selection object\n",
       "Call: regsubsets.formula(Outstate ~ ., data = College.train, method = \"forward\")\n",
       "17 Variables  (and intercept)\n",
       "            Forced in Forced out\n",
       "PrivateYes      FALSE      FALSE\n",
       "Apps            FALSE      FALSE\n",
       "Accept          FALSE      FALSE\n",
       "Enroll          FALSE      FALSE\n",
       "Top10perc       FALSE      FALSE\n",
       "Top25perc       FALSE      FALSE\n",
       "F.Undergrad     FALSE      FALSE\n",
       "P.Undergrad     FALSE      FALSE\n",
       "Room.Board      FALSE      FALSE\n",
       "Books           FALSE      FALSE\n",
       "Personal        FALSE      FALSE\n",
       "PhD             FALSE      FALSE\n",
       "Terminal        FALSE      FALSE\n",
       "S.F.Ratio       FALSE      FALSE\n",
       "perc.alumni     FALSE      FALSE\n",
       "Expend          FALSE      FALSE\n",
       "Grad.Rate       FALSE      FALSE\n",
       "1 subsets of each size up to 8\n",
       "Selection Algorithm: forward\n",
       "         PrivateYes Apps Accept Enroll Top10perc Top25perc F.Undergrad\n",
       "1  ( 1 ) \" \"        \" \"  \" \"    \" \"    \" \"       \" \"       \" \"        \n",
       "2  ( 1 ) \"*\"        \" \"  \" \"    \" \"    \" \"       \" \"       \" \"        \n",
       "3  ( 1 ) \"*\"        \" \"  \" \"    \" \"    \" \"       \" \"       \" \"        \n",
       "4  ( 1 ) \"*\"        \" \"  \" \"    \" \"    \" \"       \" \"       \" \"        \n",
       "5  ( 1 ) \"*\"        \" \"  \" \"    \" \"    \" \"       \" \"       \" \"        \n",
       "6  ( 1 ) \"*\"        \" \"  \" \"    \" \"    \" \"       \" \"       \" \"        \n",
       "7  ( 1 ) \"*\"        \" \"  \" \"    \" \"    \" \"       \" \"       \" \"        \n",
       "8  ( 1 ) \"*\"        \" \"  \" \"    \" \"    \" \"       \" \"       \" \"        \n",
       "         P.Undergrad Room.Board Books Personal PhD Terminal S.F.Ratio\n",
       "1  ( 1 ) \" \"         \" \"        \" \"   \" \"      \" \" \" \"      \" \"      \n",
       "2  ( 1 ) \" \"         \" \"        \" \"   \" \"      \" \" \" \"      \" \"      \n",
       "3  ( 1 ) \" \"         \"*\"        \" \"   \" \"      \" \" \" \"      \" \"      \n",
       "4  ( 1 ) \" \"         \"*\"        \" \"   \" \"      \"*\" \" \"      \" \"      \n",
       "5  ( 1 ) \" \"         \"*\"        \" \"   \" \"      \"*\" \" \"      \" \"      \n",
       "6  ( 1 ) \" \"         \"*\"        \" \"   \" \"      \"*\" \" \"      \" \"      \n",
       "7  ( 1 ) \" \"         \"*\"        \"*\"   \" \"      \"*\" \" \"      \" \"      \n",
       "8  ( 1 ) \" \"         \"*\"        \"*\"   \" \"      \"*\" \" \"      \"*\"      \n",
       "         perc.alumni Expend Grad.Rate\n",
       "1  ( 1 ) \" \"         \"*\"    \" \"      \n",
       "2  ( 1 ) \" \"         \"*\"    \" \"      \n",
       "3  ( 1 ) \" \"         \"*\"    \" \"      \n",
       "4  ( 1 ) \" \"         \"*\"    \" \"      \n",
       "5  ( 1 ) \"*\"         \"*\"    \" \"      \n",
       "6  ( 1 ) \"*\"         \"*\"    \"*\"      \n",
       "7  ( 1 ) \"*\"         \"*\"    \"*\"      \n",
       "8  ( 1 ) \"*\"         \"*\"    \"*\"      "
      ]
     },
     "metadata": {},
     "output_type": "display_data"
    }
   ],
   "source": [
    "library(leaps)\n",
    "reg.fit = regsubsets(Outstate ~ ., data = College.train,method = \"forward\")\n",
    "summary(reg.fit)"
   ]
  },
  {
   "cell_type": "code",
   "execution_count": 75,
   "id": "32fa376d",
   "metadata": {},
   "outputs": [
    {
     "data": {
      "text/html": [
       "<style>\n",
       ".list-inline {list-style: none; margin:0; padding: 0}\n",
       ".list-inline>li {display: inline-block}\n",
       ".list-inline>li:not(:last-child)::after {content: \"\\00b7\"; padding: 0 .5ex}\n",
       "</style>\n",
       "<ol class=list-inline><li>'(Intercept)'</li><li>'PrivateYes'</li><li>'Room.Board'</li><li>'PhD'</li><li>'perc.alumni'</li><li>'Expend'</li><li>'Grad.Rate'</li></ol>\n"
      ],
      "text/latex": [
       "\\begin{enumerate*}\n",
       "\\item '(Intercept)'\n",
       "\\item 'PrivateYes'\n",
       "\\item 'Room.Board'\n",
       "\\item 'PhD'\n",
       "\\item 'perc.alumni'\n",
       "\\item 'Expend'\n",
       "\\item 'Grad.Rate'\n",
       "\\end{enumerate*}\n"
      ],
      "text/markdown": [
       "1. '(Intercept)'\n",
       "2. 'PrivateYes'\n",
       "3. 'Room.Board'\n",
       "4. 'PhD'\n",
       "5. 'perc.alumni'\n",
       "6. 'Expend'\n",
       "7. 'Grad.Rate'\n",
       "\n",
       "\n"
      ],
      "text/plain": [
       "[1] \"(Intercept)\" \"PrivateYes\"  \"Room.Board\"  \"PhD\"         \"perc.alumni\"\n",
       "[6] \"Expend\"      \"Grad.Rate\"  "
      ]
     },
     "metadata": {},
     "output_type": "display_data"
    }
   ],
   "source": [
    "coefi = coef(reg.fit, id = 6)\n",
    "names(coefi)"
   ]
  },
  {
   "cell_type": "code",
   "execution_count": 80,
   "id": "9f1c1b74",
   "metadata": {},
   "outputs": [
    {
     "data": {
      "image/png": "[encoded data removed]",
      "text/plain": [
       "plot without title"
      ]
     },
     "metadata": {
      "image/png": {
       "height": 420,
       "width": 420
      }
     },
     "output_type": "display_data"
    }
   ],
   "source": [
    "library(gam)\n",
    "GAM = gam(Outstate ~ Private + s(Room.Board,2) + s(PhD,2) + s(perc.alumni,2) + s(Expend,4) + s(Grad.Rate,2), data = College.train)\n",
    "par(mfrow = c(2, 3))\n",
    "plot(GAM, se = T, col = \"blue\")"
   ]
  },
  {
   "cell_type": "code",
   "execution_count": 83,
   "id": "48bb8734",
   "metadata": {},
   "outputs": [
    {
     "data": {
      "text/html": [
       "3549131.60172582"
      ],
      "text/latex": [
       "3549131.60172582"
      ],
      "text/markdown": [
       "3549131.60172582"
      ],
      "text/plain": [
       "[1] 3549132"
      ]
     },
     "metadata": {},
     "output_type": "display_data"
    }
   ],
   "source": [
    "gam.pred = predict(GAM, College.test)\n",
    "gam.err = mean((College.test$Outstate - gam.pred)^2)\n",
    "gam.err"
   ]
  },
  {
   "cell_type": "code",
   "execution_count": 82,
   "id": "3a0afe31",
   "metadata": {},
   "outputs": [
    {
     "data": {
      "text/plain": [
       "\n",
       "Call: gam(formula = Outstate ~ Private + s(Room.Board, 2) + s(PhD, \n",
       "    2) + s(perc.alumni, 2) + s(Expend, 4) + s(Grad.Rate, 2), \n",
       "    data = College.train)\n",
       "Deviance Residuals:\n",
       "    Min      1Q  Median      3Q     Max \n",
       "-7174.2 -1163.3    30.2  1279.2  4756.5 \n",
       "\n",
       "(Dispersion Parameter for gaussian family taken to be 3507693)\n",
       "\n",
       "    Null Deviance: 8263424838 on 517 degrees of freedom\n",
       "Residual Deviance: 1767878399 on 504.0003 degrees of freedom\n",
       "AIC: 9292.33 \n",
       "\n",
       "Number of Local Scoring Iterations: NA \n",
       "\n",
       "Anova for Parametric Effects\n",
       "                   Df     Sum Sq    Mean Sq F value    Pr(>F)    \n",
       "Private             1 2295186724 2295186724 654.329 < 2.2e-16 ***\n",
       "s(Room.Board, 2)    1 1548871762 1548871762 441.564 < 2.2e-16 ***\n",
       "s(PhD, 2)           1  592027248  592027248 168.780 < 2.2e-16 ***\n",
       "s(perc.alumni, 2)   1  276637978  276637978  78.866 < 2.2e-16 ***\n",
       "s(Expend, 4)        1  762779128  762779128 217.459 < 2.2e-16 ***\n",
       "s(Grad.Rate, 2)     1   81424416   81424416  23.213 1.922e-06 ***\n",
       "Residuals         504 1767878399    3507693                      \n",
       "---\n",
       "Signif. codes:  0 '***' 0.001 '**' 0.01 '*' 0.05 '.' 0.1 ' ' 1\n",
       "\n",
       "Anova for Nonparametric Effects\n",
       "                  Npar Df  Npar F     Pr(F)    \n",
       "(Intercept)                                    \n",
       "Private                                        \n",
       "s(Room.Board, 2)        1  6.0351   0.01436 *  \n",
       "s(PhD, 2)               1  0.4335   0.51057    \n",
       "s(perc.alumni, 2)       1  0.7887   0.37490    \n",
       "s(Expend, 4)            3 25.7754 1.554e-15 ***\n",
       "s(Grad.Rate, 2)         1  2.0575   0.15208    \n",
       "---\n",
       "Signif. codes:  0 '***' 0.001 '**' 0.01 '*' 0.05 '.' 0.1 ' ' 1"
      ]
     },
     "metadata": {},
     "output_type": "display_data"
    }
   ],
   "source": [
    "summary(GAM)"
   ]
  }
 ],
 "metadata": {
  "kernelspec": {
   "display_name": "R",
   "language": "R",
   "name": "ir"
  },
  "language_info": {
   "codemirror_mode": "r",
   "file_extension": ".r",
   "mimetype": "text/x-r-source",
   "name": "R",
   "pygments_lexer": "r",
   "version": "4.0.5"
  }
 },
 "nbformat": 4,
 "nbformat_minor": 5
}
